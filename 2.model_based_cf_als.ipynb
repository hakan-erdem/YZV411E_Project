{
 "cells": [
  {
   "cell_type": "code",
   "execution_count": 3,
   "id": "8098704f-f863-4b0d-8626-66d2209baf23",
   "metadata": {
    "tags": []
   },
   "outputs": [
    {
     "name": "stderr",
     "output_type": "stream",
     "text": [
      "Setting default log level to \"WARN\".\n",
      "To adjust logging level use sc.setLogLevel(newLevel). For SparkR, use setLogLevel(newLevel).\n",
      "24/12/22 10:47:50 INFO SparkEnv: Registering MapOutputTracker\n",
      "24/12/22 10:47:50 INFO SparkEnv: Registering BlockManagerMaster\n",
      "24/12/22 10:47:50 INFO SparkEnv: Registering BlockManagerMasterHeartbeat\n",
      "24/12/22 10:47:51 INFO SparkEnv: Registering OutputCommitCoordinator\n"
     ]
    }
   ],
   "source": [
    "from pyspark.sql import SparkSession\n",
    "\n",
    "spark = SparkSession.builder.appName(\"movielens32m_colab_filtering\").getOrCreate()"
   ]
  },
  {
   "cell_type": "code",
   "execution_count": 14,
   "id": "6f777dc6-b039-4956-b803-a760d46f9850",
   "metadata": {
    "tags": []
   },
   "outputs": [
    {
     "name": "stderr",
     "output_type": "stream",
     "text": [
      "                                                                                \r"
     ]
    }
   ],
   "source": [
    "movies = spark.read.csv(\"gs://2425_fall_150200313/project/movies.csv\", header=True, inferSchema=True)\n",
    "ratings = spark.read.csv(\"gs://2425_fall_150200313/project/ratings.csv\", header=True, inferSchema=True)"
   ]
  },
  {
   "cell_type": "code",
   "execution_count": 15,
   "id": "64b2c5c2-9b75-45fd-91bf-8051508a462b",
   "metadata": {
    "tags": []
   },
   "outputs": [
    {
     "name": "stdout",
     "output_type": "stream",
     "text": [
      "root\n",
      " |-- userId: integer (nullable = true)\n",
      " |-- movieId: integer (nullable = true)\n",
      " |-- rating: double (nullable = true)\n",
      " |-- timestamp: integer (nullable = true)\n",
      "\n"
     ]
    }
   ],
   "source": [
    "ratings.printSchema()"
   ]
  },
  {
   "cell_type": "code",
   "execution_count": 16,
   "id": "16cb6d28-6330-476b-8acd-289e28d72d68",
   "metadata": {
    "tags": []
   },
   "outputs": [],
   "source": [
    "ratings = ratings.drop(\"timestamp\")"
   ]
  },
  {
   "cell_type": "code",
   "execution_count": 17,
   "id": "6b1bd24c-20a2-4315-b43b-9b49e276a451",
   "metadata": {
    "tags": []
   },
   "outputs": [
    {
     "name": "stderr",
     "output_type": "stream",
     "text": [
      "[Stage 17:>                                                         (0 + 1) / 1]\r"
     ]
    },
    {
     "name": "stdout",
     "output_type": "stream",
     "text": [
      "+------+-------+------+\n",
      "|userId|movieId|rating|\n",
      "+------+-------+------+\n",
      "|     1|     17|   4.0|\n",
      "|     1|     25|   1.0|\n",
      "|     1|     29|   2.0|\n",
      "|     1|     30|   5.0|\n",
      "|     1|     32|   5.0|\n",
      "|     1|     34|   2.0|\n",
      "|     1|     36|   1.0|\n",
      "|     1|     80|   5.0|\n",
      "|     1|    110|   3.0|\n",
      "|     1|    111|   5.0|\n",
      "+------+-------+------+\n",
      "only showing top 10 rows\n",
      "\n"
     ]
    },
    {
     "name": "stderr",
     "output_type": "stream",
     "text": [
      "                                                                                \r"
     ]
    }
   ],
   "source": [
    "ratings.show(10)"
   ]
  },
  {
   "cell_type": "code",
   "execution_count": 18,
   "id": "a313b1a0-dca0-4e4b-913d-d295c9d50fea",
   "metadata": {
    "tags": []
   },
   "outputs": [
    {
     "name": "stderr",
     "output_type": "stream",
     "text": [
      "[Stage 18:=================================================>        (6 + 1) / 7]\r"
     ]
    },
    {
     "name": "stdout",
     "output_type": "stream",
     "text": [
      "+-------+------------------+------------------+------------------+\n",
      "|summary|            userId|           movieId|            rating|\n",
      "+-------+------------------+------------------+------------------+\n",
      "|  count|          32000204|          32000204|          32000204|\n",
      "|   mean|100278.50641102163|29318.610121829224|3.5403956487277393|\n",
      "| stddev|  57949.0462332529| 50958.16087967011| 1.058986213945308|\n",
      "|    min|                 1|                 1|               0.5|\n",
      "|    max|            200948|            292757|               5.0|\n",
      "+-------+------------------+------------------+------------------+\n",
      "\n"
     ]
    },
    {
     "name": "stderr",
     "output_type": "stream",
     "text": [
      "                                                                                \r"
     ]
    }
   ],
   "source": [
    "ratings.describe().show()"
   ]
  },
  {
   "cell_type": "code",
   "execution_count": 20,
   "id": "30ae2049-6c56-4384-850e-7d9221d3f42d",
   "metadata": {
    "tags": []
   },
   "outputs": [
    {
     "name": "stderr",
     "output_type": "stream",
     "text": [
      "[Stage 23:======================================>                   (2 + 1) / 3]\r"
     ]
    },
    {
     "name": "stdout",
     "output_type": "stream",
     "text": [
      "+------+-----+\n",
      "|userId|count|\n",
      "+------+-----+\n",
      "|175325|33332|\n",
      "| 17035| 9577|\n",
      "| 55653| 9178|\n",
      "|123465| 9044|\n",
      "|171795| 9016|\n",
      "| 10202| 7748|\n",
      "|198515| 7594|\n",
      "| 49305| 7488|\n",
      "| 22744| 7372|\n",
      "|  7858| 7322|\n",
      "| 14674| 6407|\n",
      "| 53192| 6265|\n",
      "|133878| 6074|\n",
      "| 57304| 6061|\n",
      "|129705| 5812|\n",
      "|139018| 5806|\n",
      "| 43703| 5784|\n",
      "| 68797| 5693|\n",
      "|103925| 5655|\n",
      "|119247| 5654|\n",
      "+------+-----+\n",
      "only showing top 20 rows\n",
      "\n"
     ]
    },
    {
     "name": "stderr",
     "output_type": "stream",
     "text": [
      "                                                                                \r"
     ]
    }
   ],
   "source": [
    "# group by user_id and count the number of ratings for each user\n",
    "user_rating_counts = ratings.groupBy(\"userId\").count()\n",
    "\n",
    "# sort by the count of ratings in descending order\n",
    "user_rating_counts.sort(\"count\", ascending=False).show()"
   ]
  },
  {
   "cell_type": "markdown",
   "id": "19fd0d3c",
   "metadata": {},
   "source": [
    "## Using ALS algorithm provided by Pyspark MLlib"
   ]
  },
  {
   "cell_type": "code",
   "execution_count": 22,
   "id": "cbcbb7e9-6539-46ae-b578-4a581674c6da",
   "metadata": {
    "tags": []
   },
   "outputs": [],
   "source": [
    "from pyspark.ml.recommendation import ALS\n",
    "from pyspark.sql import functions as F\n",
    "from pyspark.ml.evaluation import RegressionEvaluator"
   ]
  },
  {
   "cell_type": "code",
   "execution_count": 24,
   "id": "e2f4875f-d74c-4c09-9f39-d24bd1cd7e2e",
   "metadata": {
    "tags": []
   },
   "outputs": [],
   "source": [
    "als = ALS(\n",
    "    userCol=\"userId\", \n",
    "    itemCol=\"movieId\", \n",
    "    ratingCol=\"rating\", \n",
    "    rank=10,          # Number of latent factors (adjust as needed)\n",
    "    maxIter=10,       # Maximum number of iterations\n",
    "    regParam=0.1,     # Regularization parameter (adjust for overfitting)\n",
    "    coldStartStrategy=\"drop\"  # Drop rows where we can't make predictions\n",
    ")"
   ]
  },
  {
   "cell_type": "code",
   "execution_count": 25,
   "id": "0aaae50f-38e0-4d25-9b79-8a5a646829e4",
   "metadata": {
    "tags": []
   },
   "outputs": [
    {
     "name": "stderr",
     "output_type": "stream",
     "text": [
      "[Stage 110:==========================================>              (3 + 1) / 4]\r"
     ]
    },
    {
     "name": "stdout",
     "output_type": "stream",
     "text": [
      "Root Mean Squared Error (RMSE): 0.8025341101498348\n"
     ]
    },
    {
     "name": "stderr",
     "output_type": "stream",
     "text": [
      "                                                                                \r"
     ]
    }
   ],
   "source": [
    "train_data, test_data = ratings.randomSplit([0.7, 0.3], seed=123)\n",
    "\n",
    "model = als.fit(train_data)\n",
    "\n",
    "predictions = model.transform(test_data)\n",
    "\n",
    "evaluator = RegressionEvaluator(metricName=\"rmse\", labelCol=\"rating\", predictionCol=\"prediction\")\n",
    "rmse = evaluator.evaluate(predictions)\n",
    "print(f\"Root Mean Squared Error (RMSE): {rmse}\")"
   ]
  },
  {
   "cell_type": "code",
   "execution_count": 27,
   "id": "ed72300f-273a-4803-989b-c239f76a4421",
   "metadata": {
    "tags": []
   },
   "outputs": [],
   "source": [
    "top10_recos = model.recommendForAllUsers(10)"
   ]
  },
  {
   "cell_type": "code",
   "execution_count": 28,
   "id": "97a7b3c8-402d-4263-91ed-787bef799b65",
   "metadata": {
    "tags": []
   },
   "outputs": [
    {
     "name": "stderr",
     "output_type": "stream",
     "text": [
      "[Stage 134:=====================================================>(99 + 1) / 100]\r"
     ]
    },
    {
     "name": "stdout",
     "output_type": "stream",
     "text": [
      "+------+--------------------+\n",
      "|userId|     recommendations|\n",
      "+------+--------------------+\n",
      "|     1|[{135735, 5.68260...|\n",
      "|     3|[{185291, 5.72309...|\n",
      "|     4|[{270306, 5.10728...|\n",
      "|     6|[{225437, 8.47182...|\n",
      "|     8|[{275847, 5.95986...|\n",
      "|    11|[{206447, 5.35142...|\n",
      "|    12|[{186087, 5.83219...|\n",
      "|    31|[{275847, 6.25373...|\n",
      "|    33|[{289897, 6.15281...|\n",
      "|    34|[{199342, 5.16130...|\n",
      "|    35|[{193817, 5.73754...|\n",
      "|    36|[{199342, 5.32439...|\n",
      "|    37|[{199342, 4.89357...|\n",
      "|    44|[{199342, 5.98434...|\n",
      "|    53|[{151989, 6.44114...|\n",
      "|    60|[{231287, 5.44635...|\n",
      "|    61|[{199342, 5.75335...|\n",
      "|    64|[{275847, 5.37640...|\n",
      "|    65|[{274047, 4.51002...|\n",
      "|    66|[{199342, 6.38508...|\n",
      "+------+--------------------+\n",
      "only showing top 20 rows\n",
      "\n"
     ]
    },
    {
     "name": "stderr",
     "output_type": "stream",
     "text": [
      "                                                                                \r"
     ]
    }
   ],
   "source": [
    "top10_recos.show()"
   ]
  },
  {
   "cell_type": "code",
   "execution_count": 31,
   "id": "a354056f-ea19-4c8e-8e7f-4f4051f4f7d2",
   "metadata": {
    "tags": []
   },
   "outputs": [
    {
     "name": "stderr",
     "output_type": "stream",
     "text": [
      "                                                                                \r"
     ]
    }
   ],
   "source": [
    "single_user = top10_recos.take(1)"
   ]
  },
  {
   "cell_type": "code",
   "execution_count": 33,
   "id": "25112892-3bfb-4ebf-bc6b-81d09ba5fd28",
   "metadata": {
    "tags": []
   },
   "outputs": [
    {
     "data": {
      "text/plain": [
       "Row(userId=1, recommendations=[Row(movieId=135735, rating=5.682607650756836), Row(movieId=227066, rating=5.321781158447266), Row(movieId=126060, rating=5.245600700378418), Row(movieId=289897, rating=5.225883960723877), Row(movieId=286911, rating=5.225883960723877), Row(movieId=165689, rating=5.212541103363037), Row(movieId=263389, rating=5.1936845779418945), Row(movieId=193817, rating=5.16832160949707), Row(movieId=165497, rating=5.151379585266113), Row(movieId=228511, rating=5.112616062164307)])"
      ]
     },
     "execution_count": 33,
     "metadata": {},
     "output_type": "execute_result"
    }
   ],
   "source": [
    "single_user[0]"
   ]
  }
 ],
 "metadata": {
  "kernelspec": {
   "display_name": "Python 3",
   "language": "python",
   "name": "python3"
  },
  "language_info": {
   "codemirror_mode": {
    "name": "ipython",
    "version": 3
   },
   "file_extension": ".py",
   "mimetype": "text/x-python",
   "name": "python",
   "nbconvert_exporter": "python",
   "pygments_lexer": "ipython3",
   "version": "3.11.8"
  }
 },
 "nbformat": 4,
 "nbformat_minor": 5
}
