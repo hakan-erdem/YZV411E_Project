{
 "cells": [
  {
   "cell_type": "code",
   "execution_count": 1,
   "id": "0e95c400",
   "metadata": {},
   "outputs": [
    {
     "name": "stderr",
     "output_type": "stream",
     "text": [
      "C:\\Users\\user\\AppData\\Roaming\\Python\\Python311\\site-packages\\tqdm\\auto.py:21: TqdmWarning: IProgress not found. Please update jupyter and ipywidgets. See https://ipywidgets.readthedocs.io/en/stable/user_install.html\n",
      "  from .autonotebook import tqdm as notebook_tqdm\n"
     ]
    }
   ],
   "source": [
    "import pandas as pd\n",
    "import numpy as np\n",
    "from sentence_transformers import SentenceTransformer"
   ]
  },
  {
   "cell_type": "code",
   "execution_count": null,
   "id": "badc93e8",
   "metadata": {},
   "outputs": [],
   "source": [
    "# Reading csv files\n",
    "reviews = pd.read_json('movie_dataset_public_final/raw/reviews.json', lines=True)\n",
    "ratings = pd.read_csv('ml-32m/ratings.csv')"
   ]
  },
  {
   "cell_type": "code",
   "execution_count": 4,
   "id": "799e2cb2",
   "metadata": {},
   "outputs": [
    {
     "data": {
      "text/html": [
       "<div>\n",
       "<style scoped>\n",
       "    .dataframe tbody tr th:only-of-type {\n",
       "        vertical-align: middle;\n",
       "    }\n",
       "\n",
       "    .dataframe tbody tr th {\n",
       "        vertical-align: top;\n",
       "    }\n",
       "\n",
       "    .dataframe thead th {\n",
       "        text-align: right;\n",
       "    }\n",
       "</style>\n",
       "<table border=\"1\" class=\"dataframe\">\n",
       "  <thead>\n",
       "    <tr style=\"text-align: right;\">\n",
       "      <th></th>\n",
       "      <th>userId</th>\n",
       "      <th>movieId</th>\n",
       "      <th>rating</th>\n",
       "      <th>timestamp</th>\n",
       "    </tr>\n",
       "  </thead>\n",
       "  <tbody>\n",
       "    <tr>\n",
       "      <th>0</th>\n",
       "      <td>1</td>\n",
       "      <td>17</td>\n",
       "      <td>4.0</td>\n",
       "      <td>944249077</td>\n",
       "    </tr>\n",
       "    <tr>\n",
       "      <th>1</th>\n",
       "      <td>1</td>\n",
       "      <td>25</td>\n",
       "      <td>1.0</td>\n",
       "      <td>944250228</td>\n",
       "    </tr>\n",
       "    <tr>\n",
       "      <th>2</th>\n",
       "      <td>1</td>\n",
       "      <td>29</td>\n",
       "      <td>2.0</td>\n",
       "      <td>943230976</td>\n",
       "    </tr>\n",
       "    <tr>\n",
       "      <th>3</th>\n",
       "      <td>1</td>\n",
       "      <td>30</td>\n",
       "      <td>5.0</td>\n",
       "      <td>944249077</td>\n",
       "    </tr>\n",
       "    <tr>\n",
       "      <th>4</th>\n",
       "      <td>1</td>\n",
       "      <td>32</td>\n",
       "      <td>5.0</td>\n",
       "      <td>943228858</td>\n",
       "    </tr>\n",
       "  </tbody>\n",
       "</table>\n",
       "</div>"
      ],
      "text/plain": [
       "   userId  movieId  rating  timestamp\n",
       "0       1       17     4.0  944249077\n",
       "1       1       25     1.0  944250228\n",
       "2       1       29     2.0  943230976\n",
       "3       1       30     5.0  944249077\n",
       "4       1       32     5.0  943228858"
      ]
     },
     "execution_count": 4,
     "metadata": {},
     "output_type": "execute_result"
    }
   ],
   "source": [
    "ratings.head(5)"
   ]
  },
  {
   "cell_type": "code",
   "execution_count": 5,
   "id": "079230f5",
   "metadata": {},
   "outputs": [
    {
     "data": {
      "text/plain": [
       "array([    17,     25,     29, ..., 175771, 157917, 274343])"
      ]
     },
     "execution_count": 5,
     "metadata": {},
     "output_type": "execute_result"
    }
   ],
   "source": [
    "ratings.movieId.unique()"
   ]
  },
  {
   "cell_type": "code",
   "execution_count": 6,
   "id": "5d18f8ce",
   "metadata": {},
   "outputs": [],
   "source": [
    "# Checking if there are common items in both datasets\n",
    "# aa is the set of common items\n",
    "aa = set(reviews.item_id.unique()) & set(ratings.movieId.unique())"
   ]
  },
  {
   "cell_type": "code",
   "execution_count": 7,
   "id": "87ee7537",
   "metadata": {},
   "outputs": [],
   "source": [
    "# Find intersection of reviews.item_id.unique() and ratings.movieId.unique()\n",
    "\n",
    "reviews = reviews[reviews.item_id.isin(aa)]\n",
    "ratings = ratings[ratings.movieId.isin(aa)]"
   ]
  },
  {
   "cell_type": "code",
   "execution_count": 8,
   "id": "ce77bfa1",
   "metadata": {},
   "outputs": [],
   "source": [
    "# Write ratings to csv\n",
    "ratings.to_csv('ratings_common.csv', index=False)"
   ]
  },
  {
   "cell_type": "code",
   "execution_count": 9,
   "id": "5bb8b3ad",
   "metadata": {},
   "outputs": [
    {
     "data": {
      "text/html": [
       "<div>\n",
       "<style scoped>\n",
       "    .dataframe tbody tr th:only-of-type {\n",
       "        vertical-align: middle;\n",
       "    }\n",
       "\n",
       "    .dataframe tbody tr th {\n",
       "        vertical-align: top;\n",
       "    }\n",
       "\n",
       "    .dataframe thead th {\n",
       "        text-align: right;\n",
       "    }\n",
       "</style>\n",
       "<table border=\"1\" class=\"dataframe\">\n",
       "  <thead>\n",
       "    <tr style=\"text-align: right;\">\n",
       "      <th></th>\n",
       "      <th>item_id</th>\n",
       "      <th>txt</th>\n",
       "    </tr>\n",
       "  </thead>\n",
       "  <tbody>\n",
       "    <tr>\n",
       "      <th>0</th>\n",
       "      <td>172063</td>\n",
       "      <td>one-shot record of a belly dancer; \"Carmencita...</td>\n",
       "    </tr>\n",
       "    <tr>\n",
       "      <th>2</th>\n",
       "      <td>7065</td>\n",
       "      <td>unbelievable; I cannot understand how anyone c...</td>\n",
       "    </tr>\n",
       "    <tr>\n",
       "      <th>3</th>\n",
       "      <td>3739</td>\n",
       "      <td>I'm still starry-eyed from it; I saw this last...</td>\n",
       "    </tr>\n",
       "    <tr>\n",
       "      <th>4</th>\n",
       "      <td>1562</td>\n",
       "      <td>Failed on every Front; Joel Schumacher who did...</td>\n",
       "    </tr>\n",
       "    <tr>\n",
       "      <th>5</th>\n",
       "      <td>8977</td>\n",
       "      <td>Poor Casting, Poor script Poor direction.; I h...</td>\n",
       "    </tr>\n",
       "  </tbody>\n",
       "</table>\n",
       "</div>"
      ],
      "text/plain": [
       "   item_id                                                txt\n",
       "0   172063  one-shot record of a belly dancer; \"Carmencita...\n",
       "2     7065  unbelievable; I cannot understand how anyone c...\n",
       "3     3739  I'm still starry-eyed from it; I saw this last...\n",
       "4     1562  Failed on every Front; Joel Schumacher who did...\n",
       "5     8977  Poor Casting, Poor script Poor direction.; I h..."
      ]
     },
     "execution_count": 9,
     "metadata": {},
     "output_type": "execute_result"
    }
   ],
   "source": [
    "reviews.head(5)"
   ]
  },
  {
   "cell_type": "code",
   "execution_count": 10,
   "id": "397c82a4",
   "metadata": {},
   "outputs": [],
   "source": [
    "# Grouping reviews by item_id and make a list of reviews about that movie\n",
    "# We will only consider the first 50 reviews for each movie\n",
    "reviews = reviews.groupby('item_id').agg({'txt':list}).reset_index()\n",
    "reviews['txt'] = reviews['txt'].apply(lambda x: x[:50])"
   ]
  },
  {
   "cell_type": "code",
   "execution_count": 11,
   "id": "0e8ca3ef",
   "metadata": {},
   "outputs": [],
   "source": [
    "# Extracting embeddings for each review and taking the average of all reviews for each movie\n",
    "def get_embedding(review, model):\n",
    "    embeds = model.encode(review)\n",
    "\n",
    "    return np.mean(embeds, axis=0).tolist()\n",
    "\n",
    "model = SentenceTransformer('all-MiniLM-L6-v2', device='cuda')"
   ]
  },
  {
   "cell_type": "code",
   "execution_count": 12,
   "id": "9e5b6881",
   "metadata": {},
   "outputs": [],
   "source": [
    "from tqdm import tqdm"
   ]
  },
  {
   "cell_type": "code",
   "execution_count": 13,
   "id": "5ced1a37",
   "metadata": {},
   "outputs": [
    {
     "name": "stderr",
     "output_type": "stream",
     "text": [
      "100%|██████████| 46236/46236 [15:11<00:00, 50.73it/s] \n"
     ]
    }
   ],
   "source": [
    "tqdm.pandas()\n",
    "# Extracting embeddings for each movie\n",
    "reviews[\"embed\"] = reviews.progress_apply(lambda x: get_embedding(x['txt'], model), axis=1)"
   ]
  },
  {
   "cell_type": "code",
   "execution_count": 15,
   "id": "fbaddab0",
   "metadata": {},
   "outputs": [],
   "source": [
    "# Save reviews embeddings without txt column as csv\n",
    "\n",
    "reviews.drop(columns=['txt']).to_csv('reviews_embeddings.csv', index=False)"
   ]
  },
  {
   "cell_type": "code",
   "execution_count": null,
   "id": "2799e3c0",
   "metadata": {},
   "outputs": [
    {
     "data": {
      "text/html": [
       "<div>\n",
       "<style scoped>\n",
       "    .dataframe tbody tr th:only-of-type {\n",
       "        vertical-align: middle;\n",
       "    }\n",
       "\n",
       "    .dataframe tbody tr th {\n",
       "        vertical-align: top;\n",
       "    }\n",
       "\n",
       "    .dataframe thead th {\n",
       "        text-align: right;\n",
       "    }\n",
       "</style>\n",
       "<table border=\"1\" class=\"dataframe\">\n",
       "  <thead>\n",
       "    <tr style=\"text-align: right;\">\n",
       "      <th></th>\n",
       "      <th>item_id</th>\n",
       "      <th>embed</th>\n",
       "    </tr>\n",
       "  </thead>\n",
       "  <tbody>\n",
       "    <tr>\n",
       "      <th>0</th>\n",
       "      <td>1</td>\n",
       "      <td>[-0.06131595000624657, -0.026167748495936394, ...</td>\n",
       "    </tr>\n",
       "    <tr>\n",
       "      <th>1</th>\n",
       "      <td>2</td>\n",
       "      <td>[-0.03323860466480255, 0.018439408391714096, 0...</td>\n",
       "    </tr>\n",
       "    <tr>\n",
       "      <th>2</th>\n",
       "      <td>3</td>\n",
       "      <td>[-0.05272774398326874, -0.05238880217075348, 0...</td>\n",
       "    </tr>\n",
       "    <tr>\n",
       "      <th>3</th>\n",
       "      <td>4</td>\n",
       "      <td>[-0.04218399152159691, -0.039693575352430344, ...</td>\n",
       "    </tr>\n",
       "    <tr>\n",
       "      <th>4</th>\n",
       "      <td>5</td>\n",
       "      <td>[-0.06244966387748718, -0.024950290098786354, ...</td>\n",
       "    </tr>\n",
       "  </tbody>\n",
       "</table>\n",
       "</div>"
      ],
      "text/plain": [
       "   item_id                                              embed\n",
       "0        1  [-0.06131595000624657, -0.026167748495936394, ...\n",
       "1        2  [-0.03323860466480255, 0.018439408391714096, 0...\n",
       "2        3  [-0.05272774398326874, -0.05238880217075348, 0...\n",
       "3        4  [-0.04218399152159691, -0.039693575352430344, ...\n",
       "4        5  [-0.06244966387748718, -0.024950290098786354, ..."
      ]
     },
     "execution_count": 14,
     "metadata": {},
     "output_type": "execute_result"
    }
   ],
   "source": [
    "# Restore saved embeddings file and check the first 5 rows\n",
    "saved_embeddings = pd.read_csv('reviews_embeddings.csv')\n",
    "\n",
    "saved_embeddings.head(5)"
   ]
  }
 ],
 "metadata": {
  "kernelspec": {
   "display_name": "Python 3",
   "language": "python",
   "name": "python3"
  },
  "language_info": {
   "codemirror_mode": {
    "name": "ipython",
    "version": 3
   },
   "file_extension": ".py",
   "mimetype": "text/x-python",
   "name": "python",
   "nbconvert_exporter": "python",
   "pygments_lexer": "ipython3",
   "version": "3.11.8"
  }
 },
 "nbformat": 4,
 "nbformat_minor": 5
}
