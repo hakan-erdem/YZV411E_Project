{
 "cells": [
  {
   "cell_type": "code",
   "execution_count": 1,
   "metadata": {},
   "outputs": [
    {
     "name": "stderr",
     "output_type": "stream",
     "text": [
      "c:\\Users\\erdem\\anaconda3\\Lib\\site-packages\\tqdm_joblib\\__init__.py:4: TqdmExperimentalWarning: Using `tqdm.autonotebook.tqdm` in notebook mode. Use `tqdm.tqdm` instead to force console mode (e.g. in jupyter console)\n",
      "  from tqdm.autonotebook import tqdm\n"
     ]
    }
   ],
   "source": [
    "import pandas as pd\n",
    "import numpy as np\n",
    "from sklearn.model_selection import train_test_split\n",
    "\n",
    "from tqdm import tqdm\n",
    "from tqdm_joblib import tqdm_joblib\n",
    "from joblib import Parallel, delayed\n",
    "\n",
    "DATASET_PATH = \"D:\\\\Datasets\\\\MovieLens32M\\\\\"\n",
    "\n",
    "# disregard pandas warnings\n",
    "pd.options.mode.chained_assignment = None"
   ]
  },
  {
   "cell_type": "markdown",
   "metadata": {},
   "source": [
    "review embeddings are gathered in review_embeddings.ipynb notebook"
   ]
  },
  {
   "cell_type": "code",
   "execution_count": 2,
   "metadata": {},
   "outputs": [],
   "source": [
    "ratings = pd.read_csv(DATASET_PATH + \"ratings.csv\").drop(columns=[\"timestamp\"])\n",
    "review_embeddings = pd.read_csv(DATASET_PATH + \"reviews_embeddings.csv\").rename(columns={\"item_id\": \"movieId\"})"
   ]
  },
  {
   "cell_type": "code",
   "execution_count": 3,
   "metadata": {},
   "outputs": [
    {
     "data": {
      "text/html": [
       "<div>\n",
       "<style scoped>\n",
       "    .dataframe tbody tr th:only-of-type {\n",
       "        vertical-align: middle;\n",
       "    }\n",
       "\n",
       "    .dataframe tbody tr th {\n",
       "        vertical-align: top;\n",
       "    }\n",
       "\n",
       "    .dataframe thead th {\n",
       "        text-align: right;\n",
       "    }\n",
       "</style>\n",
       "<table border=\"1\" class=\"dataframe\">\n",
       "  <thead>\n",
       "    <tr style=\"text-align: right;\">\n",
       "      <th></th>\n",
       "      <th>userId</th>\n",
       "      <th>movieId</th>\n",
       "      <th>rating</th>\n",
       "    </tr>\n",
       "  </thead>\n",
       "  <tbody>\n",
       "    <tr>\n",
       "      <th>0</th>\n",
       "      <td>1</td>\n",
       "      <td>17</td>\n",
       "      <td>4.0</td>\n",
       "    </tr>\n",
       "    <tr>\n",
       "      <th>1</th>\n",
       "      <td>1</td>\n",
       "      <td>25</td>\n",
       "      <td>1.0</td>\n",
       "    </tr>\n",
       "    <tr>\n",
       "      <th>2</th>\n",
       "      <td>1</td>\n",
       "      <td>29</td>\n",
       "      <td>2.0</td>\n",
       "    </tr>\n",
       "    <tr>\n",
       "      <th>3</th>\n",
       "      <td>1</td>\n",
       "      <td>30</td>\n",
       "      <td>5.0</td>\n",
       "    </tr>\n",
       "    <tr>\n",
       "      <th>4</th>\n",
       "      <td>1</td>\n",
       "      <td>32</td>\n",
       "      <td>5.0</td>\n",
       "    </tr>\n",
       "    <tr>\n",
       "      <th>...</th>\n",
       "      <td>...</td>\n",
       "      <td>...</td>\n",
       "      <td>...</td>\n",
       "    </tr>\n",
       "    <tr>\n",
       "      <th>32000199</th>\n",
       "      <td>200948</td>\n",
       "      <td>79702</td>\n",
       "      <td>4.5</td>\n",
       "    </tr>\n",
       "    <tr>\n",
       "      <th>32000200</th>\n",
       "      <td>200948</td>\n",
       "      <td>79796</td>\n",
       "      <td>1.0</td>\n",
       "    </tr>\n",
       "    <tr>\n",
       "      <th>32000201</th>\n",
       "      <td>200948</td>\n",
       "      <td>80350</td>\n",
       "      <td>0.5</td>\n",
       "    </tr>\n",
       "    <tr>\n",
       "      <th>32000202</th>\n",
       "      <td>200948</td>\n",
       "      <td>80463</td>\n",
       "      <td>3.5</td>\n",
       "    </tr>\n",
       "    <tr>\n",
       "      <th>32000203</th>\n",
       "      <td>200948</td>\n",
       "      <td>87304</td>\n",
       "      <td>4.5</td>\n",
       "    </tr>\n",
       "  </tbody>\n",
       "</table>\n",
       "<p>32000204 rows × 3 columns</p>\n",
       "</div>"
      ],
      "text/plain": [
       "          userId  movieId  rating\n",
       "0              1       17     4.0\n",
       "1              1       25     1.0\n",
       "2              1       29     2.0\n",
       "3              1       30     5.0\n",
       "4              1       32     5.0\n",
       "...          ...      ...     ...\n",
       "32000199  200948    79702     4.5\n",
       "32000200  200948    79796     1.0\n",
       "32000201  200948    80350     0.5\n",
       "32000202  200948    80463     3.5\n",
       "32000203  200948    87304     4.5\n",
       "\n",
       "[32000204 rows x 3 columns]"
      ]
     },
     "execution_count": 3,
     "metadata": {},
     "output_type": "execute_result"
    }
   ],
   "source": [
    "ratings"
   ]
  },
  {
   "cell_type": "code",
   "execution_count": 4,
   "metadata": {},
   "outputs": [
    {
     "data": {
      "text/html": [
       "<div>\n",
       "<style scoped>\n",
       "    .dataframe tbody tr th:only-of-type {\n",
       "        vertical-align: middle;\n",
       "    }\n",
       "\n",
       "    .dataframe tbody tr th {\n",
       "        vertical-align: top;\n",
       "    }\n",
       "\n",
       "    .dataframe thead th {\n",
       "        text-align: right;\n",
       "    }\n",
       "</style>\n",
       "<table border=\"1\" class=\"dataframe\">\n",
       "  <thead>\n",
       "    <tr style=\"text-align: right;\">\n",
       "      <th></th>\n",
       "      <th>movieId</th>\n",
       "      <th>embed</th>\n",
       "    </tr>\n",
       "  </thead>\n",
       "  <tbody>\n",
       "    <tr>\n",
       "      <th>0</th>\n",
       "      <td>1</td>\n",
       "      <td>[-0.06131595000624657, -0.026167748495936394, ...</td>\n",
       "    </tr>\n",
       "    <tr>\n",
       "      <th>1</th>\n",
       "      <td>2</td>\n",
       "      <td>[-0.03323860466480255, 0.018439408391714096, 0...</td>\n",
       "    </tr>\n",
       "    <tr>\n",
       "      <th>2</th>\n",
       "      <td>3</td>\n",
       "      <td>[-0.05272774398326874, -0.05238880217075348, 0...</td>\n",
       "    </tr>\n",
       "    <tr>\n",
       "      <th>3</th>\n",
       "      <td>4</td>\n",
       "      <td>[-0.04218399152159691, -0.039693575352430344, ...</td>\n",
       "    </tr>\n",
       "    <tr>\n",
       "      <th>4</th>\n",
       "      <td>5</td>\n",
       "      <td>[-0.06244966387748718, -0.024950290098786354, ...</td>\n",
       "    </tr>\n",
       "  </tbody>\n",
       "</table>\n",
       "</div>"
      ],
      "text/plain": [
       "   movieId                                              embed\n",
       "0        1  [-0.06131595000624657, -0.026167748495936394, ...\n",
       "1        2  [-0.03323860466480255, 0.018439408391714096, 0...\n",
       "2        3  [-0.05272774398326874, -0.05238880217075348, 0...\n",
       "3        4  [-0.04218399152159691, -0.039693575352430344, ...\n",
       "4        5  [-0.06244966387748718, -0.024950290098786354, ..."
      ]
     },
     "execution_count": 4,
     "metadata": {},
     "output_type": "execute_result"
    }
   ],
   "source": [
    "review_embeddings.head()"
   ]
  },
  {
   "cell_type": "code",
   "execution_count": 5,
   "metadata": {},
   "outputs": [],
   "source": [
    "# filter the rating id to only include the ones that have a review\n",
    "ratings = ratings[ratings[\"movieId\"].isin(review_embeddings[\"movieId\"])]"
   ]
  },
  {
   "cell_type": "code",
   "execution_count": 6,
   "metadata": {},
   "outputs": [
    {
     "data": {
      "text/html": [
       "<div>\n",
       "<style scoped>\n",
       "    .dataframe tbody tr th:only-of-type {\n",
       "        vertical-align: middle;\n",
       "    }\n",
       "\n",
       "    .dataframe tbody tr th {\n",
       "        vertical-align: top;\n",
       "    }\n",
       "\n",
       "    .dataframe thead th {\n",
       "        text-align: right;\n",
       "    }\n",
       "</style>\n",
       "<table border=\"1\" class=\"dataframe\">\n",
       "  <thead>\n",
       "    <tr style=\"text-align: right;\">\n",
       "      <th></th>\n",
       "      <th>userId</th>\n",
       "      <th>movieId</th>\n",
       "      <th>rating</th>\n",
       "    </tr>\n",
       "  </thead>\n",
       "  <tbody>\n",
       "    <tr>\n",
       "      <th>0</th>\n",
       "      <td>1</td>\n",
       "      <td>17</td>\n",
       "      <td>4.0</td>\n",
       "    </tr>\n",
       "    <tr>\n",
       "      <th>1</th>\n",
       "      <td>1</td>\n",
       "      <td>25</td>\n",
       "      <td>1.0</td>\n",
       "    </tr>\n",
       "    <tr>\n",
       "      <th>2</th>\n",
       "      <td>1</td>\n",
       "      <td>29</td>\n",
       "      <td>2.0</td>\n",
       "    </tr>\n",
       "    <tr>\n",
       "      <th>3</th>\n",
       "      <td>1</td>\n",
       "      <td>30</td>\n",
       "      <td>5.0</td>\n",
       "    </tr>\n",
       "    <tr>\n",
       "      <th>4</th>\n",
       "      <td>1</td>\n",
       "      <td>32</td>\n",
       "      <td>5.0</td>\n",
       "    </tr>\n",
       "    <tr>\n",
       "      <th>...</th>\n",
       "      <td>...</td>\n",
       "      <td>...</td>\n",
       "      <td>...</td>\n",
       "    </tr>\n",
       "    <tr>\n",
       "      <th>32000199</th>\n",
       "      <td>200948</td>\n",
       "      <td>79702</td>\n",
       "      <td>4.5</td>\n",
       "    </tr>\n",
       "    <tr>\n",
       "      <th>32000200</th>\n",
       "      <td>200948</td>\n",
       "      <td>79796</td>\n",
       "      <td>1.0</td>\n",
       "    </tr>\n",
       "    <tr>\n",
       "      <th>32000201</th>\n",
       "      <td>200948</td>\n",
       "      <td>80350</td>\n",
       "      <td>0.5</td>\n",
       "    </tr>\n",
       "    <tr>\n",
       "      <th>32000202</th>\n",
       "      <td>200948</td>\n",
       "      <td>80463</td>\n",
       "      <td>3.5</td>\n",
       "    </tr>\n",
       "    <tr>\n",
       "      <th>32000203</th>\n",
       "      <td>200948</td>\n",
       "      <td>87304</td>\n",
       "      <td>4.5</td>\n",
       "    </tr>\n",
       "  </tbody>\n",
       "</table>\n",
       "<p>30983358 rows × 3 columns</p>\n",
       "</div>"
      ],
      "text/plain": [
       "          userId  movieId  rating\n",
       "0              1       17     4.0\n",
       "1              1       25     1.0\n",
       "2              1       29     2.0\n",
       "3              1       30     5.0\n",
       "4              1       32     5.0\n",
       "...          ...      ...     ...\n",
       "32000199  200948    79702     4.5\n",
       "32000200  200948    79796     1.0\n",
       "32000201  200948    80350     0.5\n",
       "32000202  200948    80463     3.5\n",
       "32000203  200948    87304     4.5\n",
       "\n",
       "[30983358 rows x 3 columns]"
      ]
     },
     "execution_count": 6,
     "metadata": {},
     "output_type": "execute_result"
    }
   ],
   "source": [
    "ratings"
   ]
  },
  {
   "cell_type": "code",
   "execution_count": 7,
   "metadata": {},
   "outputs": [],
   "source": [
    "def parse_embedding(embedding_str):\n",
    "    return np.array(embedding_str[1:-1].split(\", \")).astype(np.float32)\n",
    "\n",
    "review_embeddings[\"embed\"] = review_embeddings[\"embed\"].apply(parse_embedding)"
   ]
  },
  {
   "cell_type": "code",
   "execution_count": 8,
   "metadata": {},
   "outputs": [
    {
     "data": {
      "text/plain": [
       "array([-6.13159500e-02, -2.61677485e-02,  5.45579642e-02, -4.91172560e-02,\n",
       "       -2.68552825e-02,  4.10389788e-02,  3.97612080e-02,  2.52327379e-02,\n",
       "        1.45071447e-02,  1.43586402e-03, -1.30720213e-02,  5.53099588e-02,\n",
       "        3.63318026e-02,  4.30244654e-02,  1.92954149e-02,  3.60613689e-02,\n",
       "        7.04567432e-02, -5.21029755e-02,  4.23779860e-02, -4.90425192e-02,\n",
       "        4.40297574e-02, -1.99645553e-02,  6.27430901e-02, -1.28555410e-02,\n",
       "       -4.43590209e-02,  3.73669825e-02, -1.03510545e-04, -2.79518254e-02,\n",
       "       -6.40946031e-02, -3.06767169e-02,  2.54042037e-02,  5.00780717e-02,\n",
       "       -9.11142910e-04, -4.24804129e-02, -3.08895260e-02,  3.50595601e-02,\n",
       "        2.75797416e-02, -4.52351570e-02, -2.52276994e-02, -2.22335272e-02,\n",
       "       -2.36212127e-02,  3.00305150e-02,  1.28817931e-02, -4.07569408e-02,\n",
       "        1.65556874e-02, -4.29368056e-02, -2.07180865e-02, -1.05340384e-01,\n",
       "        3.03175207e-02,  1.28169302e-02, -4.25188169e-02, -5.66814793e-03,\n",
       "        7.89260641e-02, -1.31508075e-02,  2.60350052e-02,  1.92545559e-02,\n",
       "        2.32857186e-02, -5.77538982e-02,  3.34688425e-02, -4.20858003e-02,\n",
       "       -6.29316494e-02, -1.28298393e-02,  6.69150576e-02, -2.66439170e-02,\n",
       "        5.74238971e-02, -9.25941020e-02, -2.37623043e-02, -3.38113755e-02,\n",
       "       -1.16585353e-02, -1.12226317e-02, -5.19865192e-02,  3.16592976e-02,\n",
       "        2.03924961e-02, -2.02908665e-02, -5.06517924e-02, -2.34288462e-02,\n",
       "       -2.53368560e-02, -2.09163092e-02, -1.48568535e-02, -6.92136725e-03,\n",
       "        9.48728528e-03, -4.94738482e-02, -3.00492588e-02, -6.35697097e-02,\n",
       "       -4.66155708e-02,  3.73139270e-02,  6.56074360e-02,  1.44517161e-02,\n",
       "       -7.02872798e-02,  8.28341693e-02, -8.12080801e-02, -6.57438627e-03,\n",
       "        4.45033014e-02,  5.73915131e-02,  4.21057455e-02, -2.90363748e-02,\n",
       "       -2.00173259e-02, -5.50833046e-02, -1.28800357e-02, -4.06373926e-02,\n",
       "        3.31037790e-02, -3.45179588e-02,  4.94504534e-02, -6.46213219e-02,\n",
       "        5.21443598e-02, -3.20570320e-02,  1.72770824e-02, -2.30644941e-02,\n",
       "        1.65184885e-02,  2.19790507e-02, -4.78086481e-03,  7.65229808e-03,\n",
       "        9.84509662e-03,  5.56855015e-02,  7.62303127e-04,  7.91251753e-03,\n",
       "        3.15087475e-02,  2.45485600e-04,  2.00226400e-02,  2.84247454e-02,\n",
       "        1.20125949e-01,  3.62300240e-02,  4.01563337e-03,  3.82636003e-02,\n",
       "        2.06086282e-02, -5.05372323e-02, -1.27311656e-02,  7.62889038e-34,\n",
       "       -2.08382700e-02,  3.27515267e-02,  3.91193256e-02,  3.15685980e-02,\n",
       "       -1.50205521e-02,  4.07674983e-02,  8.66360683e-03,  6.26602694e-02,\n",
       "       -8.61617401e-02, -1.06660761e-02, -8.52405578e-02, -2.72432622e-03,\n",
       "       -4.94123138e-02,  5.30429976e-03,  1.62835830e-04, -1.11132944e-02,\n",
       "       -1.21499911e-01, -3.95410322e-02,  8.58572945e-02,  4.36828434e-02,\n",
       "       -4.26972620e-02,  6.08738661e-02, -2.86477469e-02,  8.39956757e-03,\n",
       "       -3.56174037e-02,  2.08752342e-02, -1.79503839e-02, -1.41244959e-02,\n",
       "        5.76168159e-03, -6.52451627e-03, -3.29211392e-02,  1.94887184e-02,\n",
       "       -6.66013965e-03,  4.84333839e-03,  3.90990414e-02, -7.14515522e-02,\n",
       "       -8.33158102e-03, -3.51323485e-02, -5.09142540e-02,  4.07775678e-02,\n",
       "       -1.41066918e-02, -2.91709192e-02, -9.12144184e-02,  3.04973610e-02,\n",
       "       -2.22972110e-02,  3.89427878e-02,  6.33705929e-02, -1.30011858e-02,\n",
       "       -3.24337445e-02,  7.56973773e-02, -1.29968002e-02,  3.11918575e-02,\n",
       "       -1.11015681e-02, -3.25747840e-02, -3.15597244e-02,  7.10665761e-03,\n",
       "        4.04213630e-02, -7.22237825e-02,  3.38281691e-03, -3.20854969e-02,\n",
       "        6.90686926e-02,  2.40607746e-02,  2.93672271e-02, -4.42576632e-02,\n",
       "       -1.17908726e-02,  5.28880917e-02,  8.83814171e-02,  4.79753539e-02,\n",
       "       -5.25740907e-05,  3.51437069e-02, -2.00783294e-02, -2.03574635e-02,\n",
       "       -1.04202554e-02, -6.70365691e-02,  3.17366570e-02, -3.96394578e-04,\n",
       "       -7.02858903e-03,  3.21613974e-04, -4.53395396e-02, -1.93700995e-02,\n",
       "        3.52928713e-02,  8.33262224e-03, -1.63462311e-02,  1.41017290e-03,\n",
       "        2.17045425e-03, -7.50871524e-02, -7.47399218e-03, -2.11337954e-02,\n",
       "       -9.76649206e-03,  2.11060625e-02,  5.18219583e-02, -8.10004771e-02,\n",
       "        9.38409474e-03,  4.36218791e-02,  1.44964326e-02, -2.83024767e-33,\n",
       "        2.43679974e-02, -5.44027425e-02, -1.55896917e-02, -4.86752659e-04,\n",
       "        6.87135896e-03, -2.88660862e-02, -4.73096147e-02,  2.15933099e-02,\n",
       "        2.91208141e-02, -8.45202059e-03, -3.76745276e-02,  1.78136006e-02,\n",
       "        2.10667178e-02, -2.31779069e-02,  2.37263516e-02,  6.74602436e-03,\n",
       "        1.45738097e-02, -7.97275733e-03,  1.23300506e-02,  1.27793364e-02,\n",
       "        6.54893145e-02,  2.21757106e-02, -7.88168833e-02, -1.28487432e-02,\n",
       "       -2.40480881e-02,  5.69330789e-02, -8.75818077e-03, -4.43732962e-02,\n",
       "       -1.24636404e-02,  1.64194591e-02, -1.82677545e-02, -2.71068029e-02,\n",
       "        4.93870936e-02,  3.17965932e-02, -4.42103622e-03, -3.39852087e-02,\n",
       "        4.19446966e-03, -7.54036531e-02,  1.16814943e-02, -6.31779507e-02,\n",
       "        7.98757095e-03,  1.47190504e-02, -2.36990973e-02,  3.30648646e-02,\n",
       "       -8.19273852e-03, -9.26382188e-03, -2.51988880e-02,  2.53784992e-02,\n",
       "       -4.76834141e-02,  8.82336348e-02, -7.07928017e-02,  5.48721366e-02,\n",
       "       -6.47176523e-03, -8.78083482e-02, -3.48977819e-02, -2.87613496e-02,\n",
       "        3.37467203e-03, -6.57943916e-03,  7.86956772e-02,  6.14671744e-02,\n",
       "       -4.40828130e-02, -2.89516822e-02, -1.61600430e-02, -4.40270221e-03,\n",
       "       -7.16392696e-02, -1.78613362e-03,  8.14278517e-03,  1.42787322e-02,\n",
       "        7.27993809e-03, -4.42803763e-02,  5.06981835e-03,  4.21849824e-02,\n",
       "       -2.09493209e-02, -1.89963505e-02,  1.53010152e-02,  3.10736280e-02,\n",
       "        3.04583386e-02, -1.91248953e-02, -2.51837773e-04, -2.12753639e-02,\n",
       "        2.22725514e-02,  1.58877149e-02,  3.61111611e-02,  2.21959893e-02,\n",
       "       -7.12301536e-03,  7.05857277e-02, -3.36371437e-02,  1.70519631e-02,\n",
       "       -5.86711839e-02,  5.32895811e-02,  3.85339148e-02,  7.74637759e-02,\n",
       "        1.15429913e-03,  4.65162694e-02,  1.51681378e-02, -5.27273158e-08,\n",
       "       -5.39732799e-02,  1.25949141e-02, -1.67792141e-02, -7.29877055e-02,\n",
       "        4.83628213e-02,  2.84406845e-03, -2.27167085e-02,  8.18667039e-02,\n",
       "        3.81775876e-03,  1.86150596e-02,  1.57061145e-02,  9.58396681e-03,\n",
       "       -1.56423990e-02,  3.31121311e-02,  3.31951343e-02,  4.58143577e-02,\n",
       "        2.80559156e-02,  4.17026837e-04,  2.97897737e-02,  7.79951215e-02,\n",
       "       -6.97573181e-03, -6.40332524e-04,  2.40346286e-02, -4.49155085e-03,\n",
       "       -7.91278630e-02,  2.48651858e-03, -2.37575602e-02, -4.51211445e-02,\n",
       "        3.06712966e-02,  2.42531151e-02,  4.71090985e-04,  3.35218459e-02,\n",
       "       -6.24455400e-02, -8.36316030e-03, -6.29079565e-02, -7.49833509e-02,\n",
       "        8.02690443e-03, -1.13389362e-02,  1.75452083e-02, -1.03268661e-02,\n",
       "        6.69029057e-02,  1.36034274e-02, -1.89877469e-02, -2.17281953e-02,\n",
       "        1.18542435e-02,  2.37487815e-02, -1.14682371e-04, -1.13887101e-01,\n",
       "        1.26371849e-02,  6.77751750e-02, -1.87286325e-02,  7.81245949e-03,\n",
       "       -5.06801456e-02,  2.04488821e-02,  7.98371136e-02,  1.52342033e-03,\n",
       "       -4.09446806e-02,  3.32638808e-03, -3.54823582e-02,  2.09831968e-02,\n",
       "        4.58150581e-02,  6.66815042e-03,  3.18301953e-02,  6.77336231e-02],\n",
       "      dtype=float32)"
      ]
     },
     "execution_count": 8,
     "metadata": {},
     "output_type": "execute_result"
    }
   ],
   "source": [
    "review_embeddings.loc[0, \"embed\"]"
   ]
  },
  {
   "cell_type": "markdown",
   "metadata": {},
   "source": [
    "### Recommendation with item-item collaborative filtering using embeddings as similarity criteria"
   ]
  },
  {
   "cell_type": "code",
   "execution_count": 9,
   "metadata": {},
   "outputs": [],
   "source": [
    "train_set, test_set = train_test_split(ratings, random_state=42)"
   ]
  },
  {
   "cell_type": "code",
   "execution_count": 10,
   "metadata": {},
   "outputs": [],
   "source": [
    "# caching several variables to speed up the process\n",
    "user_means = train_set.groupby(\"userId\")[\"rating\"].mean().to_dict()\n",
    "movie_means = ratings.groupby(\"movieId\")[\"rating\"].mean().to_dict()\n",
    "ratings_mean = ratings[\"rating\"].mean()\n",
    "movie_embeddings = review_embeddings.set_index(\"movieId\")[\"embed\"].to_dict()"
   ]
  },
  {
   "cell_type": "code",
   "execution_count": 17,
   "metadata": {},
   "outputs": [],
   "source": [
    "def predict(row, k=10, hybrid=False):\n",
    "    user_id = row[\"userId\"]\n",
    "    movie_id = row[\"movieId\"]\n",
    "\n",
    "    # global prediction\n",
    "    user_mean = user_means.get(user_id, ratings_mean)\n",
    "    movie_mean = movie_means.get(movie_id, ratings_mean)\n",
    "    user_deviation = ratings_mean - user_mean\n",
    "    movie_deviation = ratings_mean - movie_mean\n",
    "    baseline = ratings_mean + user_deviation + movie_deviation\n",
    "\n",
    "    # local prediction\n",
    "    user_movies = train_set[train_set[\"userId\"] == user_id]\n",
    "    if len(user_movies) >= k and movie_id in movie_embeddings:\n",
    "        movie_embedding = np.array(movie_embeddings[movie_id])\n",
    "        user_movie_embeddings = review_embeddings[\n",
    "            review_embeddings[\"movieId\"].isin(user_movies[\"movieId\"])\n",
    "        ].copy()\n",
    "        user_movie_embeddings[\"similarity\"] = np.dot(\n",
    "            np.vstack(user_movie_embeddings[\"embed\"].values), movie_embedding\n",
    "        )\n",
    "        top_k_movies = user_movie_embeddings.nlargest(k, \"similarity\").merge(user_movies, on=\"movieId\")\n",
    "        local_prediction = np.average(top_k_movies[\"rating\"], weights=top_k_movies[\"similarity\"])\n",
    "\n",
    "        if hybrid:\n",
    "            prediction = 0.3 * baseline + 0.7 * local_prediction\n",
    "        else:\n",
    "            prediction = local_prediction\n",
    "    else:\n",
    "        prediction = baseline\n",
    "\n",
    "    return prediction, row[\"rating\"]\n"
   ]
  },
  {
   "cell_type": "markdown",
   "metadata": {},
   "source": [
    "### Experiments"
   ]
  },
  {
   "cell_type": "markdown",
   "metadata": {},
   "source": [
    "k=10, hybrid=False"
   ]
  },
  {
   "cell_type": "code",
   "execution_count": null,
   "metadata": {},
   "outputs": [],
   "source": [
    "k = 10\n",
    "predictions = []\n",
    "labels = []\n",
    "\n",
    "for _, row in tqdm(test_set.iterrows(), total=len(test_set)):\n",
    "    prediction, label = predict(row, k=k)\n",
    "    predictions.append(prediction)\n",
    "    labels.append(label)"
   ]
  },
  {
   "cell_type": "code",
   "execution_count": 14,
   "metadata": {},
   "outputs": [
    {
     "name": "stdout",
     "output_type": "stream",
     "text": [
      "Results:\n",
      "RMSE: 0.8854088741832823\n",
      "MAPE: 0.2947690360080843\n"
     ]
    }
   ],
   "source": [
    "print(\"Results:\")\n",
    "print(\"RMSE:\", np.sqrt(np.mean((np.array(predictions) - np.array(labels)) ** 2)))\n",
    "print(\"MAPE:\", np.mean(np.abs(np.array(predictions) - np.array(labels)) / np.array(labels)))"
   ]
  },
  {
   "cell_type": "markdown",
   "metadata": {},
   "source": [
    "k=10, hybrid=True"
   ]
  },
  {
   "cell_type": "code",
   "execution_count": 18,
   "metadata": {},
   "outputs": [
    {
     "name": "stderr",
     "output_type": "stream",
     "text": [
      "100%|██████████| 30984/30984 [16:28<00:00, 31.35it/s]\n"
     ]
    }
   ],
   "source": [
    "k = 10\n",
    "predictions = []\n",
    "labels = []\n",
    "\n",
    "for _, row in tqdm(test_set.iterrows(), total=len(test_set)):\n",
    "    prediction, label = predict(row, k=k, hybrid=True)\n",
    "    predictions.append(prediction)\n",
    "    labels.append(label)"
   ]
  },
  {
   "cell_type": "code",
   "execution_count": 19,
   "metadata": {},
   "outputs": [
    {
     "name": "stdout",
     "output_type": "stream",
     "text": [
      "Results:\n",
      "RMSE: 0.9836644005799349\n",
      "MAPE: 0.35131077268010785\n"
     ]
    }
   ],
   "source": [
    "print(\"Results:\")\n",
    "print(\"RMSE:\", np.sqrt(np.mean((np.array(predictions) - np.array(labels)) ** 2)))\n",
    "print(\"MAPE:\", np.mean(np.abs(np.array(predictions) - np.array(labels)) / np.array(labels)))"
   ]
  }
 ],
 "metadata": {
  "kernelspec": {
   "display_name": "base",
   "language": "python",
   "name": "python3"
  },
  "language_info": {
   "codemirror_mode": {
    "name": "ipython",
    "version": 3
   },
   "file_extension": ".py",
   "mimetype": "text/x-python",
   "name": "python",
   "nbconvert_exporter": "python",
   "pygments_lexer": "ipython3",
   "version": "3.12.7"
  }
 },
 "nbformat": 4,
 "nbformat_minor": 2
}
