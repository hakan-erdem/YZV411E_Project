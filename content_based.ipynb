{
 "cells": [
  {
   "cell_type": "code",
   "execution_count": 1,
   "metadata": {},
   "outputs": [],
   "source": [
    "import pandas as pd\n",
    "import numpy as np\n",
    "import matplotlib.pyplot as plt\n",
    "import seaborn as sns\n",
    "from sklearn.feature_extraction.text import TfidfVectorizer\n",
    "\n",
    "DATASET_32M = './ml-32m/'\n"
   ]
  },
  {
   "cell_type": "code",
   "execution_count": 2,
   "metadata": {},
   "outputs": [],
   "source": [
    "# Reading CSV files\n",
    "movies = pd.read_csv(DATASET_32M + 'movies.csv')\n",
    "ratings = pd.read_csv(DATASET_32M + 'ratings.csv')\n",
    "tags = pd.read_csv(DATASET_32M + 'tags.csv')"
   ]
  },
  {
   "cell_type": "markdown",
   "metadata": {},
   "source": [
    "## Movies"
   ]
  },
  {
   "cell_type": "code",
   "execution_count": 3,
   "metadata": {},
   "outputs": [
    {
     "data": {
      "text/html": [
       "<div>\n",
       "<style scoped>\n",
       "    .dataframe tbody tr th:only-of-type {\n",
       "        vertical-align: middle;\n",
       "    }\n",
       "\n",
       "    .dataframe tbody tr th {\n",
       "        vertical-align: top;\n",
       "    }\n",
       "\n",
       "    .dataframe thead th {\n",
       "        text-align: right;\n",
       "    }\n",
       "</style>\n",
       "<table border=\"1\" class=\"dataframe\">\n",
       "  <thead>\n",
       "    <tr style=\"text-align: right;\">\n",
       "      <th></th>\n",
       "      <th>movieId</th>\n",
       "      <th>title</th>\n",
       "      <th>genres</th>\n",
       "    </tr>\n",
       "  </thead>\n",
       "  <tbody>\n",
       "    <tr>\n",
       "      <th>0</th>\n",
       "      <td>1</td>\n",
       "      <td>Toy Story (1995)</td>\n",
       "      <td>Adventure|Animation|Children|Comedy|Fantasy</td>\n",
       "    </tr>\n",
       "    <tr>\n",
       "      <th>1</th>\n",
       "      <td>2</td>\n",
       "      <td>Jumanji (1995)</td>\n",
       "      <td>Adventure|Children|Fantasy</td>\n",
       "    </tr>\n",
       "    <tr>\n",
       "      <th>2</th>\n",
       "      <td>3</td>\n",
       "      <td>Grumpier Old Men (1995)</td>\n",
       "      <td>Comedy|Romance</td>\n",
       "    </tr>\n",
       "    <tr>\n",
       "      <th>3</th>\n",
       "      <td>4</td>\n",
       "      <td>Waiting to Exhale (1995)</td>\n",
       "      <td>Comedy|Drama|Romance</td>\n",
       "    </tr>\n",
       "    <tr>\n",
       "      <th>4</th>\n",
       "      <td>5</td>\n",
       "      <td>Father of the Bride Part II (1995)</td>\n",
       "      <td>Comedy</td>\n",
       "    </tr>\n",
       "    <tr>\n",
       "      <th>...</th>\n",
       "      <td>...</td>\n",
       "      <td>...</td>\n",
       "      <td>...</td>\n",
       "    </tr>\n",
       "    <tr>\n",
       "      <th>87580</th>\n",
       "      <td>292731</td>\n",
       "      <td>The Monroy Affaire (2022)</td>\n",
       "      <td>Drama</td>\n",
       "    </tr>\n",
       "    <tr>\n",
       "      <th>87581</th>\n",
       "      <td>292737</td>\n",
       "      <td>Shelter in Solitude (2023)</td>\n",
       "      <td>Comedy|Drama</td>\n",
       "    </tr>\n",
       "    <tr>\n",
       "      <th>87582</th>\n",
       "      <td>292753</td>\n",
       "      <td>Orca (2023)</td>\n",
       "      <td>Drama</td>\n",
       "    </tr>\n",
       "    <tr>\n",
       "      <th>87583</th>\n",
       "      <td>292755</td>\n",
       "      <td>The Angry Breed (1968)</td>\n",
       "      <td>Drama</td>\n",
       "    </tr>\n",
       "    <tr>\n",
       "      <th>87584</th>\n",
       "      <td>292757</td>\n",
       "      <td>Race to the Summit (2023)</td>\n",
       "      <td>Action|Adventure|Documentary</td>\n",
       "    </tr>\n",
       "  </tbody>\n",
       "</table>\n",
       "<p>87585 rows × 3 columns</p>\n",
       "</div>"
      ],
      "text/plain": [
       "       movieId                               title  \\\n",
       "0            1                    Toy Story (1995)   \n",
       "1            2                      Jumanji (1995)   \n",
       "2            3             Grumpier Old Men (1995)   \n",
       "3            4            Waiting to Exhale (1995)   \n",
       "4            5  Father of the Bride Part II (1995)   \n",
       "...        ...                                 ...   \n",
       "87580   292731           The Monroy Affaire (2022)   \n",
       "87581   292737          Shelter in Solitude (2023)   \n",
       "87582   292753                         Orca (2023)   \n",
       "87583   292755              The Angry Breed (1968)   \n",
       "87584   292757           Race to the Summit (2023)   \n",
       "\n",
       "                                            genres  \n",
       "0      Adventure|Animation|Children|Comedy|Fantasy  \n",
       "1                       Adventure|Children|Fantasy  \n",
       "2                                   Comedy|Romance  \n",
       "3                             Comedy|Drama|Romance  \n",
       "4                                           Comedy  \n",
       "...                                            ...  \n",
       "87580                                        Drama  \n",
       "87581                                 Comedy|Drama  \n",
       "87582                                        Drama  \n",
       "87583                                        Drama  \n",
       "87584                 Action|Adventure|Documentary  \n",
       "\n",
       "[87585 rows x 3 columns]"
      ]
     },
     "execution_count": 3,
     "metadata": {},
     "output_type": "execute_result"
    }
   ],
   "source": [
    "movies"
   ]
  },
  {
   "cell_type": "markdown",
   "metadata": {},
   "source": [
    "- using tf-idf for the genres? "
   ]
  },
  {
   "cell_type": "code",
   "execution_count": 4,
   "metadata": {},
   "outputs": [],
   "source": [
    "# movies['genres'] = movies['genres'].str.replace('|', ' ')  # Replace '|' with space to treat as text input\n",
    "\n",
    "# # 2. Apply TF-IDF\n",
    "# tfidf = TfidfVectorizer()\n",
    "# tfidf_matrix = tfidf.fit_transform(movies['genres'])  # Generate TF-IDF matrix"
   ]
  },
  {
   "cell_type": "markdown",
   "metadata": {},
   "source": [
    "#### idea:\n",
    "- create one-hot encoded features of the movie genres"
   ]
  },
  {
   "cell_type": "code",
   "execution_count": 5,
   "metadata": {},
   "outputs": [],
   "source": [
    "# Create one-hot encoding for genres\n",
    "genres = movies['genres'].str.get_dummies()\n",
    "movies = pd.concat([movies, genres], axis=1)\n",
    "movies.drop('genres', axis=1, inplace=True)"
   ]
  },
  {
   "cell_type": "code",
   "execution_count": 6,
   "metadata": {},
   "outputs": [
    {
     "data": {
      "text/html": [
       "<div>\n",
       "<style scoped>\n",
       "    .dataframe tbody tr th:only-of-type {\n",
       "        vertical-align: middle;\n",
       "    }\n",
       "\n",
       "    .dataframe tbody tr th {\n",
       "        vertical-align: top;\n",
       "    }\n",
       "\n",
       "    .dataframe thead th {\n",
       "        text-align: right;\n",
       "    }\n",
       "</style>\n",
       "<table border=\"1\" class=\"dataframe\">\n",
       "  <thead>\n",
       "    <tr style=\"text-align: right;\">\n",
       "      <th></th>\n",
       "      <th>movieId</th>\n",
       "      <th>title</th>\n",
       "      <th>(no genres listed)</th>\n",
       "      <th>Action</th>\n",
       "      <th>Adventure</th>\n",
       "      <th>Animation</th>\n",
       "      <th>Children</th>\n",
       "      <th>Comedy</th>\n",
       "      <th>Crime</th>\n",
       "      <th>Documentary</th>\n",
       "      <th>...</th>\n",
       "      <th>Film-Noir</th>\n",
       "      <th>Horror</th>\n",
       "      <th>IMAX</th>\n",
       "      <th>Musical</th>\n",
       "      <th>Mystery</th>\n",
       "      <th>Romance</th>\n",
       "      <th>Sci-Fi</th>\n",
       "      <th>Thriller</th>\n",
       "      <th>War</th>\n",
       "      <th>Western</th>\n",
       "    </tr>\n",
       "  </thead>\n",
       "  <tbody>\n",
       "    <tr>\n",
       "      <th>0</th>\n",
       "      <td>1</td>\n",
       "      <td>Toy Story (1995)</td>\n",
       "      <td>0</td>\n",
       "      <td>0</td>\n",
       "      <td>1</td>\n",
       "      <td>1</td>\n",
       "      <td>1</td>\n",
       "      <td>1</td>\n",
       "      <td>0</td>\n",
       "      <td>0</td>\n",
       "      <td>...</td>\n",
       "      <td>0</td>\n",
       "      <td>0</td>\n",
       "      <td>0</td>\n",
       "      <td>0</td>\n",
       "      <td>0</td>\n",
       "      <td>0</td>\n",
       "      <td>0</td>\n",
       "      <td>0</td>\n",
       "      <td>0</td>\n",
       "      <td>0</td>\n",
       "    </tr>\n",
       "    <tr>\n",
       "      <th>1</th>\n",
       "      <td>2</td>\n",
       "      <td>Jumanji (1995)</td>\n",
       "      <td>0</td>\n",
       "      <td>0</td>\n",
       "      <td>1</td>\n",
       "      <td>0</td>\n",
       "      <td>1</td>\n",
       "      <td>0</td>\n",
       "      <td>0</td>\n",
       "      <td>0</td>\n",
       "      <td>...</td>\n",
       "      <td>0</td>\n",
       "      <td>0</td>\n",
       "      <td>0</td>\n",
       "      <td>0</td>\n",
       "      <td>0</td>\n",
       "      <td>0</td>\n",
       "      <td>0</td>\n",
       "      <td>0</td>\n",
       "      <td>0</td>\n",
       "      <td>0</td>\n",
       "    </tr>\n",
       "  </tbody>\n",
       "</table>\n",
       "<p>2 rows × 22 columns</p>\n",
       "</div>"
      ],
      "text/plain": [
       "   movieId             title  (no genres listed)  Action  Adventure  \\\n",
       "0        1  Toy Story (1995)                   0       0          1   \n",
       "1        2    Jumanji (1995)                   0       0          1   \n",
       "\n",
       "   Animation  Children  Comedy  Crime  Documentary  ...  Film-Noir  Horror  \\\n",
       "0          1         1       1      0            0  ...          0       0   \n",
       "1          0         1       0      0            0  ...          0       0   \n",
       "\n",
       "   IMAX  Musical  Mystery  Romance  Sci-Fi  Thriller  War  Western  \n",
       "0     0        0        0        0       0         0    0        0  \n",
       "1     0        0        0        0       0         0    0        0  \n",
       "\n",
       "[2 rows x 22 columns]"
      ]
     },
     "execution_count": 6,
     "metadata": {},
     "output_type": "execute_result"
    }
   ],
   "source": [
    "movies.head(2)"
   ]
  },
  {
   "cell_type": "code",
   "execution_count": 7,
   "metadata": {},
   "outputs": [
    {
     "data": {
      "text/html": [
       "<div>\n",
       "<style scoped>\n",
       "    .dataframe tbody tr th:only-of-type {\n",
       "        vertical-align: middle;\n",
       "    }\n",
       "\n",
       "    .dataframe tbody tr th {\n",
       "        vertical-align: top;\n",
       "    }\n",
       "\n",
       "    .dataframe thead th {\n",
       "        text-align: right;\n",
       "    }\n",
       "</style>\n",
       "<table border=\"1\" class=\"dataframe\">\n",
       "  <thead>\n",
       "    <tr style=\"text-align: right;\">\n",
       "      <th></th>\n",
       "      <th>zeros</th>\n",
       "      <th>ones</th>\n",
       "      <th>total</th>\n",
       "      <th>percentage</th>\n",
       "    </tr>\n",
       "  </thead>\n",
       "  <tbody>\n",
       "    <tr>\n",
       "      <th>Drama</th>\n",
       "      <td>53410</td>\n",
       "      <td>34175</td>\n",
       "      <td>87585</td>\n",
       "      <td>0.390192</td>\n",
       "    </tr>\n",
       "    <tr>\n",
       "      <th>Comedy</th>\n",
       "      <td>64461</td>\n",
       "      <td>23124</td>\n",
       "      <td>87585</td>\n",
       "      <td>0.264018</td>\n",
       "    </tr>\n",
       "    <tr>\n",
       "      <th>Thriller</th>\n",
       "      <td>75762</td>\n",
       "      <td>11823</td>\n",
       "      <td>87585</td>\n",
       "      <td>0.134989</td>\n",
       "    </tr>\n",
       "    <tr>\n",
       "      <th>Romance</th>\n",
       "      <td>77216</td>\n",
       "      <td>10369</td>\n",
       "      <td>87585</td>\n",
       "      <td>0.118388</td>\n",
       "    </tr>\n",
       "    <tr>\n",
       "      <th>Action</th>\n",
       "      <td>77917</td>\n",
       "      <td>9668</td>\n",
       "      <td>87585</td>\n",
       "      <td>0.110384</td>\n",
       "    </tr>\n",
       "    <tr>\n",
       "      <th>Documentary</th>\n",
       "      <td>78222</td>\n",
       "      <td>9363</td>\n",
       "      <td>87585</td>\n",
       "      <td>0.106902</td>\n",
       "    </tr>\n",
       "    <tr>\n",
       "      <th>Horror</th>\n",
       "      <td>78931</td>\n",
       "      <td>8654</td>\n",
       "      <td>87585</td>\n",
       "      <td>0.098807</td>\n",
       "    </tr>\n",
       "    <tr>\n",
       "      <th>(no genres listed)</th>\n",
       "      <td>80505</td>\n",
       "      <td>7080</td>\n",
       "      <td>87585</td>\n",
       "      <td>0.080836</td>\n",
       "    </tr>\n",
       "    <tr>\n",
       "      <th>Crime</th>\n",
       "      <td>80609</td>\n",
       "      <td>6976</td>\n",
       "      <td>87585</td>\n",
       "      <td>0.079648</td>\n",
       "    </tr>\n",
       "    <tr>\n",
       "      <th>Adventure</th>\n",
       "      <td>82183</td>\n",
       "      <td>5402</td>\n",
       "      <td>87585</td>\n",
       "      <td>0.061677</td>\n",
       "    </tr>\n",
       "    <tr>\n",
       "      <th>Sci-Fi</th>\n",
       "      <td>82678</td>\n",
       "      <td>4907</td>\n",
       "      <td>87585</td>\n",
       "      <td>0.056026</td>\n",
       "    </tr>\n",
       "    <tr>\n",
       "      <th>Animation</th>\n",
       "      <td>82968</td>\n",
       "      <td>4617</td>\n",
       "      <td>87585</td>\n",
       "      <td>0.052715</td>\n",
       "    </tr>\n",
       "    <tr>\n",
       "      <th>Children</th>\n",
       "      <td>83065</td>\n",
       "      <td>4520</td>\n",
       "      <td>87585</td>\n",
       "      <td>0.051607</td>\n",
       "    </tr>\n",
       "    <tr>\n",
       "      <th>Mystery</th>\n",
       "      <td>83572</td>\n",
       "      <td>4013</td>\n",
       "      <td>87585</td>\n",
       "      <td>0.045818</td>\n",
       "    </tr>\n",
       "    <tr>\n",
       "      <th>Fantasy</th>\n",
       "      <td>83734</td>\n",
       "      <td>3851</td>\n",
       "      <td>87585</td>\n",
       "      <td>0.043969</td>\n",
       "    </tr>\n",
       "    <tr>\n",
       "      <th>War</th>\n",
       "      <td>85260</td>\n",
       "      <td>2325</td>\n",
       "      <td>87585</td>\n",
       "      <td>0.026546</td>\n",
       "    </tr>\n",
       "    <tr>\n",
       "      <th>Western</th>\n",
       "      <td>85889</td>\n",
       "      <td>1696</td>\n",
       "      <td>87585</td>\n",
       "      <td>0.019364</td>\n",
       "    </tr>\n",
       "    <tr>\n",
       "      <th>Musical</th>\n",
       "      <td>86526</td>\n",
       "      <td>1059</td>\n",
       "      <td>87585</td>\n",
       "      <td>0.012091</td>\n",
       "    </tr>\n",
       "    <tr>\n",
       "      <th>Film-Noir</th>\n",
       "      <td>87232</td>\n",
       "      <td>353</td>\n",
       "      <td>87585</td>\n",
       "      <td>0.004030</td>\n",
       "    </tr>\n",
       "    <tr>\n",
       "      <th>IMAX</th>\n",
       "      <td>87390</td>\n",
       "      <td>195</td>\n",
       "      <td>87585</td>\n",
       "      <td>0.002226</td>\n",
       "    </tr>\n",
       "  </tbody>\n",
       "</table>\n",
       "</div>"
      ],
      "text/plain": [
       "                    zeros   ones  total  percentage\n",
       "Drama               53410  34175  87585    0.390192\n",
       "Comedy              64461  23124  87585    0.264018\n",
       "Thriller            75762  11823  87585    0.134989\n",
       "Romance             77216  10369  87585    0.118388\n",
       "Action              77917   9668  87585    0.110384\n",
       "Documentary         78222   9363  87585    0.106902\n",
       "Horror              78931   8654  87585    0.098807\n",
       "(no genres listed)  80505   7080  87585    0.080836\n",
       "Crime               80609   6976  87585    0.079648\n",
       "Adventure           82183   5402  87585    0.061677\n",
       "Sci-Fi              82678   4907  87585    0.056026\n",
       "Animation           82968   4617  87585    0.052715\n",
       "Children            83065   4520  87585    0.051607\n",
       "Mystery             83572   4013  87585    0.045818\n",
       "Fantasy             83734   3851  87585    0.043969\n",
       "War                 85260   2325  87585    0.026546\n",
       "Western             85889   1696  87585    0.019364\n",
       "Musical             86526   1059  87585    0.012091\n",
       "Film-Noir           87232    353  87585    0.004030\n",
       "IMAX                87390    195  87585    0.002226"
      ]
     },
     "execution_count": 7,
     "metadata": {},
     "output_type": "execute_result"
    }
   ],
   "source": [
    "# For each genre column, calculated how many zeros and ones it has\n",
    "genre_counts = movies.iloc[:, 2:].apply(pd.Series.value_counts)\n",
    "genre_counts = genre_counts.transpose()\n",
    "# Choose the column names\n",
    "genre_counts.columns = ['zeros', 'ones']\n",
    "# Add total and percentage columns and sort by percentage\n",
    "genre_counts['total'] = genre_counts['zeros'] + genre_counts['ones']\n",
    "genre_counts['percentage'] = genre_counts['ones'] / genre_counts['total']\n",
    "genre_counts.sort_values('percentage', ascending=False, inplace=True)\n",
    "\n",
    "genre_counts"
   ]
  },
  {
   "cell_type": "code",
   "execution_count": 8,
   "metadata": {},
   "outputs": [
    {
     "data": {
      "image/png": "[encoded data removed]",
      "text/plain": [
       "<Figure size 1200x600 with 1 Axes>"
      ]
     },
     "metadata": {},
     "output_type": "display_data"
    }
   ],
   "source": [
    "# Visualize the percentage of ones for each genre\n",
    "plt.figure(figsize=(12, 6))\n",
    "sns.barplot(x=genre_counts.index, y=genre_counts['percentage'])\n",
    "plt.xticks(rotation=50, ha='right', va='top')\n",
    "\n",
    "# Add the percentage values on top of the bars\n",
    "for i, v in enumerate(genre_counts['percentage']):\n",
    "    plt.text(i, v, f'{v:.3f}', ha='center', va='bottom')\n",
    "\n",
    "# Add title and labels\n",
    "plt.title('Percentage of movies with each genre')\n",
    "plt.xlabel('Genre')\n",
    "plt.ylabel('Percentage')\n",
    "\n",
    "# Add a box in the top right corner with the total number of movies for each genre\n",
    "plt.text(0.95, 0.95, genre_counts['ones'], transform=plt.gca().transAxes, ha='right', va='top', bbox=dict(facecolor='white', alpha=0.5))\n",
    "\n",
    "plt.show()\n"
   ]
  },
  {
   "cell_type": "markdown",
   "metadata": {},
   "source": [
    "## Tags"
   ]
  },
  {
   "cell_type": "code",
   "execution_count": 9,
   "metadata": {},
   "outputs": [
    {
     "data": {
      "text/html": [
       "<div>\n",
       "<style scoped>\n",
       "    .dataframe tbody tr th:only-of-type {\n",
       "        vertical-align: middle;\n",
       "    }\n",
       "\n",
       "    .dataframe tbody tr th {\n",
       "        vertical-align: top;\n",
       "    }\n",
       "\n",
       "    .dataframe thead th {\n",
       "        text-align: right;\n",
       "    }\n",
       "</style>\n",
       "<table border=\"1\" class=\"dataframe\">\n",
       "  <thead>\n",
       "    <tr style=\"text-align: right;\">\n",
       "      <th></th>\n",
       "      <th>userId</th>\n",
       "      <th>movieId</th>\n",
       "      <th>tag</th>\n",
       "      <th>timestamp</th>\n",
       "    </tr>\n",
       "  </thead>\n",
       "  <tbody>\n",
       "    <tr>\n",
       "      <th>0</th>\n",
       "      <td>22</td>\n",
       "      <td>26479</td>\n",
       "      <td>Kevin Kline</td>\n",
       "      <td>1583038886</td>\n",
       "    </tr>\n",
       "    <tr>\n",
       "      <th>1</th>\n",
       "      <td>22</td>\n",
       "      <td>79592</td>\n",
       "      <td>misogyny</td>\n",
       "      <td>1581476297</td>\n",
       "    </tr>\n",
       "    <tr>\n",
       "      <th>2</th>\n",
       "      <td>22</td>\n",
       "      <td>247150</td>\n",
       "      <td>acrophobia</td>\n",
       "      <td>1622483469</td>\n",
       "    </tr>\n",
       "    <tr>\n",
       "      <th>3</th>\n",
       "      <td>34</td>\n",
       "      <td>2174</td>\n",
       "      <td>music</td>\n",
       "      <td>1249808064</td>\n",
       "    </tr>\n",
       "    <tr>\n",
       "      <th>4</th>\n",
       "      <td>34</td>\n",
       "      <td>2174</td>\n",
       "      <td>weird</td>\n",
       "      <td>1249808102</td>\n",
       "    </tr>\n",
       "  </tbody>\n",
       "</table>\n",
       "</div>"
      ],
      "text/plain": [
       "   userId  movieId          tag   timestamp\n",
       "0      22    26479  Kevin Kline  1583038886\n",
       "1      22    79592     misogyny  1581476297\n",
       "2      22   247150   acrophobia  1622483469\n",
       "3      34     2174        music  1249808064\n",
       "4      34     2174        weird  1249808102"
      ]
     },
     "execution_count": 9,
     "metadata": {},
     "output_type": "execute_result"
    }
   ],
   "source": [
    "tags.head()"
   ]
  },
  {
   "cell_type": "markdown",
   "metadata": {},
   "source": [
    "#### idea:\n",
    "- combine the tags assigned to each movie as a list of tags\n",
    "- merge it with movies.csv"
   ]
  },
  {
   "cell_type": "code",
   "execution_count": 10,
   "metadata": {},
   "outputs": [],
   "source": [
    "# Aggreagte the tags for each movie into a list of tags\n",
    "tags_agg = tags.groupby('movieId')['tag'].agg(list).reset_index()"
   ]
  },
  {
   "cell_type": "code",
   "execution_count": 11,
   "metadata": {},
   "outputs": [],
   "source": [
    "# Left join the movies with the tags\n",
    "movies_w_tags = movies.merge(tags_agg, on='movieId', how='left')"
   ]
  },
  {
   "cell_type": "code",
   "execution_count": 12,
   "metadata": {},
   "outputs": [
    {
     "data": {
      "text/plain": [
       "np.float64(0.41402066563909345)"
      ]
     },
     "execution_count": 12,
     "metadata": {},
     "output_type": "execute_result"
    }
   ],
   "source": [
    "movies_w_tags.tag.isna().sum()/len(movies_w_tags)"
   ]
  },
  {
   "cell_type": "markdown",
   "metadata": {},
   "source": [
    "- it turns out, 41% of the movies don't have any tags, so this idea is a bust"
   ]
  },
  {
   "cell_type": "markdown",
   "metadata": {},
   "source": [
    "---"
   ]
  },
  {
   "cell_type": "markdown",
   "metadata": {},
   "source": [
    "## Ratings"
   ]
  },
  {
   "cell_type": "code",
   "execution_count": 13,
   "metadata": {},
   "outputs": [
    {
     "data": {
      "text/html": [
       "<div>\n",
       "<style scoped>\n",
       "    .dataframe tbody tr th:only-of-type {\n",
       "        vertical-align: middle;\n",
       "    }\n",
       "\n",
       "    .dataframe tbody tr th {\n",
       "        vertical-align: top;\n",
       "    }\n",
       "\n",
       "    .dataframe thead th {\n",
       "        text-align: right;\n",
       "    }\n",
       "</style>\n",
       "<table border=\"1\" class=\"dataframe\">\n",
       "  <thead>\n",
       "    <tr style=\"text-align: right;\">\n",
       "      <th></th>\n",
       "      <th>userId</th>\n",
       "      <th>movieId</th>\n",
       "      <th>rating</th>\n",
       "      <th>timestamp</th>\n",
       "    </tr>\n",
       "  </thead>\n",
       "  <tbody>\n",
       "    <tr>\n",
       "      <th>0</th>\n",
       "      <td>1</td>\n",
       "      <td>17</td>\n",
       "      <td>4.0</td>\n",
       "      <td>944249077</td>\n",
       "    </tr>\n",
       "    <tr>\n",
       "      <th>1</th>\n",
       "      <td>1</td>\n",
       "      <td>25</td>\n",
       "      <td>1.0</td>\n",
       "      <td>944250228</td>\n",
       "    </tr>\n",
       "    <tr>\n",
       "      <th>2</th>\n",
       "      <td>1</td>\n",
       "      <td>29</td>\n",
       "      <td>2.0</td>\n",
       "      <td>943230976</td>\n",
       "    </tr>\n",
       "    <tr>\n",
       "      <th>3</th>\n",
       "      <td>1</td>\n",
       "      <td>30</td>\n",
       "      <td>5.0</td>\n",
       "      <td>944249077</td>\n",
       "    </tr>\n",
       "    <tr>\n",
       "      <th>4</th>\n",
       "      <td>1</td>\n",
       "      <td>32</td>\n",
       "      <td>5.0</td>\n",
       "      <td>943228858</td>\n",
       "    </tr>\n",
       "    <tr>\n",
       "      <th>...</th>\n",
       "      <td>...</td>\n",
       "      <td>...</td>\n",
       "      <td>...</td>\n",
       "      <td>...</td>\n",
       "    </tr>\n",
       "    <tr>\n",
       "      <th>32000199</th>\n",
       "      <td>200948</td>\n",
       "      <td>79702</td>\n",
       "      <td>4.5</td>\n",
       "      <td>1294412589</td>\n",
       "    </tr>\n",
       "    <tr>\n",
       "      <th>32000200</th>\n",
       "      <td>200948</td>\n",
       "      <td>79796</td>\n",
       "      <td>1.0</td>\n",
       "      <td>1287216292</td>\n",
       "    </tr>\n",
       "    <tr>\n",
       "      <th>32000201</th>\n",
       "      <td>200948</td>\n",
       "      <td>80350</td>\n",
       "      <td>0.5</td>\n",
       "      <td>1294412671</td>\n",
       "    </tr>\n",
       "    <tr>\n",
       "      <th>32000202</th>\n",
       "      <td>200948</td>\n",
       "      <td>80463</td>\n",
       "      <td>3.5</td>\n",
       "      <td>1350423800</td>\n",
       "    </tr>\n",
       "    <tr>\n",
       "      <th>32000203</th>\n",
       "      <td>200948</td>\n",
       "      <td>87304</td>\n",
       "      <td>4.5</td>\n",
       "      <td>1350423523</td>\n",
       "    </tr>\n",
       "  </tbody>\n",
       "</table>\n",
       "<p>32000204 rows × 4 columns</p>\n",
       "</div>"
      ],
      "text/plain": [
       "          userId  movieId  rating   timestamp\n",
       "0              1       17     4.0   944249077\n",
       "1              1       25     1.0   944250228\n",
       "2              1       29     2.0   943230976\n",
       "3              1       30     5.0   944249077\n",
       "4              1       32     5.0   943228858\n",
       "...          ...      ...     ...         ...\n",
       "32000199  200948    79702     4.5  1294412589\n",
       "32000200  200948    79796     1.0  1287216292\n",
       "32000201  200948    80350     0.5  1294412671\n",
       "32000202  200948    80463     3.5  1350423800\n",
       "32000203  200948    87304     4.5  1350423523\n",
       "\n",
       "[32000204 rows x 4 columns]"
      ]
     },
     "execution_count": 13,
     "metadata": {},
     "output_type": "execute_result"
    }
   ],
   "source": [
    "ratings"
   ]
  },
  {
   "cell_type": "code",
   "execution_count": 14,
   "metadata": {},
   "outputs": [],
   "source": [
    "ratings.drop('timestamp', axis=1, inplace=True)"
   ]
  },
  {
   "cell_type": "markdown",
   "metadata": {},
   "source": [
    "#### idea:\n",
    "- get the average rating for each movie from ratings.csv and add it as a new feature"
   ]
  },
  {
   "cell_type": "code",
   "execution_count": 15,
   "metadata": {},
   "outputs": [],
   "source": [
    "# Gather the average rating for each movie\n",
    "avg_ratings = ratings.groupby('movieId')['rating'].mean().reset_index()"
   ]
  },
  {
   "cell_type": "code",
   "execution_count": 16,
   "metadata": {},
   "outputs": [
    {
     "data": {
      "text/html": [
       "<div>\n",
       "<style scoped>\n",
       "    .dataframe tbody tr th:only-of-type {\n",
       "        vertical-align: middle;\n",
       "    }\n",
       "\n",
       "    .dataframe tbody tr th {\n",
       "        vertical-align: top;\n",
       "    }\n",
       "\n",
       "    .dataframe thead th {\n",
       "        text-align: right;\n",
       "    }\n",
       "</style>\n",
       "<table border=\"1\" class=\"dataframe\">\n",
       "  <thead>\n",
       "    <tr style=\"text-align: right;\">\n",
       "      <th></th>\n",
       "      <th>movieId</th>\n",
       "      <th>rating</th>\n",
       "    </tr>\n",
       "  </thead>\n",
       "  <tbody>\n",
       "    <tr>\n",
       "      <th>0</th>\n",
       "      <td>1</td>\n",
       "      <td>3.897438</td>\n",
       "    </tr>\n",
       "    <tr>\n",
       "      <th>1</th>\n",
       "      <td>2</td>\n",
       "      <td>3.275758</td>\n",
       "    </tr>\n",
       "    <tr>\n",
       "      <th>2</th>\n",
       "      <td>3</td>\n",
       "      <td>3.139447</td>\n",
       "    </tr>\n",
       "    <tr>\n",
       "      <th>3</th>\n",
       "      <td>4</td>\n",
       "      <td>2.845331</td>\n",
       "    </tr>\n",
       "    <tr>\n",
       "      <th>4</th>\n",
       "      <td>5</td>\n",
       "      <td>3.059602</td>\n",
       "    </tr>\n",
       "    <tr>\n",
       "      <th>...</th>\n",
       "      <td>...</td>\n",
       "      <td>...</td>\n",
       "    </tr>\n",
       "    <tr>\n",
       "      <th>84427</th>\n",
       "      <td>292731</td>\n",
       "      <td>4.000000</td>\n",
       "    </tr>\n",
       "    <tr>\n",
       "      <th>84428</th>\n",
       "      <td>292737</td>\n",
       "      <td>1.500000</td>\n",
       "    </tr>\n",
       "    <tr>\n",
       "      <th>84429</th>\n",
       "      <td>292753</td>\n",
       "      <td>4.000000</td>\n",
       "    </tr>\n",
       "    <tr>\n",
       "      <th>84430</th>\n",
       "      <td>292755</td>\n",
       "      <td>1.000000</td>\n",
       "    </tr>\n",
       "    <tr>\n",
       "      <th>84431</th>\n",
       "      <td>292757</td>\n",
       "      <td>3.500000</td>\n",
       "    </tr>\n",
       "  </tbody>\n",
       "</table>\n",
       "<p>84432 rows × 2 columns</p>\n",
       "</div>"
      ],
      "text/plain": [
       "       movieId    rating\n",
       "0            1  3.897438\n",
       "1            2  3.275758\n",
       "2            3  3.139447\n",
       "3            4  2.845331\n",
       "4            5  3.059602\n",
       "...        ...       ...\n",
       "84427   292731  4.000000\n",
       "84428   292737  1.500000\n",
       "84429   292753  4.000000\n",
       "84430   292755  1.000000\n",
       "84431   292757  3.500000\n",
       "\n",
       "[84432 rows x 2 columns]"
      ]
     },
     "execution_count": 16,
     "metadata": {},
     "output_type": "execute_result"
    }
   ],
   "source": [
    "avg_ratings"
   ]
  },
  {
   "cell_type": "code",
   "execution_count": 17,
   "metadata": {},
   "outputs": [],
   "source": [
    "# Left join the movies with the average ratings\n",
    "movies = movies.merge(avg_ratings, on='movieId', how='left')"
   ]
  },
  {
   "cell_type": "code",
   "execution_count": 18,
   "metadata": {},
   "outputs": [],
   "source": [
    "movies.rename(columns={'rating': 'avgRating'}, inplace=True)"
   ]
  },
  {
   "cell_type": "code",
   "execution_count": 19,
   "metadata": {},
   "outputs": [
    {
     "data": {
      "text/plain": [
       "np.float64(0.03599931495119027)"
      ]
     },
     "execution_count": 19,
     "metadata": {},
     "output_type": "execute_result"
    }
   ],
   "source": [
    "movies.avgRating.isna().sum()/len(movies)"
   ]
  },
  {
   "cell_type": "markdown",
   "metadata": {},
   "source": [
    "- 3.6% of the movies don't have an average rating\n",
    "- probably due to no one rated them yet"
   ]
  },
  {
   "cell_type": "markdown",
   "metadata": {},
   "source": [
    "---"
   ]
  },
  {
   "cell_type": "markdown",
   "metadata": {},
   "source": [
    "#### handling missing values in avgRating\n",
    "- apply a genre-based averaging\n",
    "- the filling value will be the average of the genre averages of the movie belongs to"
   ]
  },
  {
   "cell_type": "code",
   "execution_count": 20,
   "metadata": {},
   "outputs": [],
   "source": [
    "genres = movies.columns[2:-1].values.tolist()\n",
    "genre_avg_ratings = {}\n",
    "# Calculate the average rating for each genre\n",
    "for genre in genres:\n",
    "    genre_avg_ratings[genre] = movies[movies[genre] == 1]['avgRating'].mean()"
   ]
  },
  {
   "cell_type": "code",
   "execution_count": 21,
   "metadata": {},
   "outputs": [],
   "source": [
    "def fill_missing_avg_rating(row):\n",
    "    # If the average rating is missing, calculate it based on the genres\n",
    "    if np.isnan(row[\"avgRating\"]):\n",
    "        avg_rating = 0\n",
    "        count = 0\n",
    "        # Calculate the average rating based on the genres\n",
    "        for genre in genres:\n",
    "            if row[genre] == 1:\n",
    "                avg_rating += genre_avg_ratings[genre]\n",
    "                count += 1\n",
    "        if count > 0:\n",
    "            avg_rating /= count\n",
    "        return avg_rating\n",
    "    \n",
    "    return row[\"avgRating\"]\n",
    "\n",
    "movies['avgRating'] = movies.apply(fill_missing_avg_rating, axis=1)"
   ]
  },
  {
   "cell_type": "code",
   "execution_count": 22,
   "metadata": {},
   "outputs": [
    {
     "data": {
      "text/plain": [
       "np.float64(0.0)"
      ]
     },
     "execution_count": 22,
     "metadata": {},
     "output_type": "execute_result"
    }
   ],
   "source": [
    "movies[\"avgRating\"].isna().sum()/len(movies)"
   ]
  },
  {
   "cell_type": "markdown",
   "metadata": {},
   "source": [
    "---"
   ]
  },
  {
   "cell_type": "markdown",
   "metadata": {},
   "source": [
    "## Training"
   ]
  },
  {
   "cell_type": "code",
   "execution_count": 23,
   "metadata": {},
   "outputs": [],
   "source": [
    "import torch\n",
    "import torch.nn as nn\n",
    "import torch.optim as optim\n",
    "from torch.utils.data import Dataset, DataLoader\n",
    "import torch.nn.functional as F\n",
    "\n",
    "from tqdm import tqdm"
   ]
  },
  {
   "cell_type": "code",
   "execution_count": 24,
   "metadata": {},
   "outputs": [],
   "source": [
    "# Split the data into training and validation sets by creating custom Dataset classes\n",
    "class RatingDataset(Dataset):\n",
    "    def __init__(self, movies, ratings):\n",
    "        self.movies = movies\n",
    "        self.ratings = ratings\n",
    "        \n",
    "    def __len__(self):\n",
    "        return len(self.ratings)\n",
    "    \n",
    "    def __getitem__(self, idx):\n",
    "        # Get the features and target for the given index\n",
    "        features = self.movies.loc[self.ratings.iloc[idx]['movieId']].values\n",
    "        target = self.ratings.iloc[idx]['rating']\n",
    "        return features, target\n",
    "\n",
    "class RatingNN(nn.Module):\n",
    "    def __init__(self, input_size):\n",
    "        super(RatingNN, self).__init__()\n",
    "        self.input_layer = nn.Sequential(\n",
    "            nn.Linear(input_size, 256),  \n",
    "            nn.BatchNorm1d(256),\n",
    "            nn.ReLU(),\n",
    "            nn.Dropout(0.3),\n",
    "        )\n",
    "        # Three residual blocks with two linear layers each\n",
    "        self.hidden_layers = nn.ModuleList([\n",
    "            nn.Sequential(\n",
    "                nn.Linear(256, 256), \n",
    "                nn.BatchNorm1d(256),\n",
    "                nn.ReLU(),\n",
    "                nn.Dropout(0.3),\n",
    "                nn.Linear(256, 256),  \n",
    "                nn.BatchNorm1d(256),\n",
    "            ) for _ in range(3)  \n",
    "        ])\n",
    "        # Transition layer with one linear layer\n",
    "        self.transition_layer = nn.Sequential(\n",
    "            nn.Linear(256, 128),  \n",
    "            nn.BatchNorm1d(128),\n",
    "            nn.ReLU(),\n",
    "            nn.Dropout(0.3),\n",
    "        )\n",
    "        # Final output layer\n",
    "        self.output_layer = nn.Linear(128, 1)  \n",
    "\n",
    "    def forward(self, x):\n",
    "        x = self.input_layer(x)\n",
    "        for block in self.hidden_layers:\n",
    "            residual = x\n",
    "            x = block(x)\n",
    "            # Residual connection\n",
    "            x += residual  \n",
    "            x = F.relu(x)  \n",
    "        x = self.transition_layer(x)\n",
    "        return self.output_layer(x)\n"
   ]
  },
  {
   "cell_type": "code",
   "execution_count": 25,
   "metadata": {},
   "outputs": [],
   "source": [
    "movies = movies.set_index('movieId').iloc[:, 1:]"
   ]
  },
  {
   "cell_type": "code",
   "execution_count": 26,
   "metadata": {},
   "outputs": [],
   "source": [
    "# Use all of data\n",
    "movies_small = movies.sample(frac=1)\n",
    "# Only keep the ratings for the selected movies\n",
    "ratings_small = ratings[ratings['movieId'].isin(movies_small.index)]"
   ]
  },
  {
   "cell_type": "code",
   "execution_count": 27,
   "metadata": {},
   "outputs": [],
   "source": [
    "dataset = RatingDataset(movies_small, ratings_small)\n",
    "\n",
    "# Train, validation, test split operation\n",
    "train_size = int(0.7 * len(dataset))\n",
    "val_size = int(0.2 * len(dataset))\n",
    "test_size = len(dataset) - train_size - val_size\n",
    "\n",
    "# Random split\n",
    "train_dataset, val_dataset, test_dataset = torch.utils.data.random_split(dataset, [train_size, val_size, test_size])\n",
    "\n",
    "# Create data loaders\n",
    "train_loader = DataLoader(train_dataset, batch_size=64, shuffle=True)\n",
    "val_loader = DataLoader(val_dataset, batch_size=64)\n",
    "test_loader = DataLoader(test_dataset, batch_size=64)"
   ]
  },
  {
   "cell_type": "code",
   "execution_count": 28,
   "metadata": {},
   "outputs": [],
   "source": [
    "# Initialize the model, loss function, and optimizer\n",
    "input_size = movies.shape[1]\n",
    "device = torch.device(\"cuda\" if torch.cuda.is_available() else \"cpu\")\n",
    "\n",
    "model = RatingNN(input_size)\n",
    "\n",
    "criterion = nn.MSELoss()\n",
    "optimizer = optim.Adam(model.parameters(), lr=0.001)"
   ]
  },
  {
   "cell_type": "code",
   "execution_count": 29,
   "metadata": {},
   "outputs": [
    {
     "name": "stderr",
     "output_type": "stream",
     "text": [
      "100%|██████████| 350003/350003 [42:01<00:00, 138.79it/s]\n",
      "100%|██████████| 100001/100001 [06:37<00:00, 251.27it/s]\n"
     ]
    },
    {
     "name": "stdout",
     "output_type": "stream",
     "text": [
      "Epoch 1/10, Train Loss: 0.9342, Val Loss: 0.9319\n"
     ]
    },
    {
     "name": "stderr",
     "output_type": "stream",
     "text": [
      "100%|██████████| 350003/350003 [41:54<00:00, 139.18it/s]\n",
      "100%|██████████| 100001/100001 [06:35<00:00, 252.54it/s]\n"
     ]
    },
    {
     "name": "stdout",
     "output_type": "stream",
     "text": [
      "Epoch 2/10, Train Loss: 0.9290, Val Loss: 0.9333\n"
     ]
    },
    {
     "name": "stderr",
     "output_type": "stream",
     "text": [
      "100%|██████████| 350003/350003 [42:00<00:00, 138.86it/s]\n",
      "100%|██████████| 100001/100001 [06:38<00:00, 251.19it/s]\n"
     ]
    },
    {
     "name": "stdout",
     "output_type": "stream",
     "text": [
      "Epoch 3/10, Train Loss: 0.9282, Val Loss: 0.9369\n"
     ]
    },
    {
     "name": "stderr",
     "output_type": "stream",
     "text": [
      "100%|██████████| 350003/350003 [41:58<00:00, 138.97it/s]\n",
      "100%|██████████| 100001/100001 [06:42<00:00, 248.66it/s]\n"
     ]
    },
    {
     "name": "stdout",
     "output_type": "stream",
     "text": [
      "Epoch 4/10, Train Loss: 0.9276, Val Loss: 0.9304\n"
     ]
    },
    {
     "name": "stderr",
     "output_type": "stream",
     "text": [
      "100%|██████████| 350003/350003 [41:52<00:00, 139.29it/s]\n",
      "100%|██████████| 100001/100001 [06:41<00:00, 249.20it/s]\n"
     ]
    },
    {
     "name": "stdout",
     "output_type": "stream",
     "text": [
      "Epoch 5/10, Train Loss: 0.9273, Val Loss: 0.9408\n"
     ]
    },
    {
     "name": "stderr",
     "output_type": "stream",
     "text": [
      "100%|██████████| 350003/350003 [41:59<00:00, 138.94it/s]\n",
      "100%|██████████| 100001/100001 [06:42<00:00, 248.14it/s]\n"
     ]
    },
    {
     "name": "stdout",
     "output_type": "stream",
     "text": [
      "Epoch 6/10, Train Loss: 0.9270, Val Loss: 0.9376\n"
     ]
    },
    {
     "name": "stderr",
     "output_type": "stream",
     "text": [
      "100%|██████████| 350003/350003 [41:56<00:00, 139.07it/s]\n",
      "100%|██████████| 100001/100001 [06:41<00:00, 248.98it/s]\n"
     ]
    },
    {
     "name": "stdout",
     "output_type": "stream",
     "text": [
      "Epoch 7/10, Train Loss: 0.9268, Val Loss: 0.9351\n"
     ]
    },
    {
     "name": "stderr",
     "output_type": "stream",
     "text": [
      "100%|██████████| 350003/350003 [42:02<00:00, 138.74it/s]\n",
      "100%|██████████| 100001/100001 [06:43<00:00, 247.97it/s]\n"
     ]
    },
    {
     "name": "stdout",
     "output_type": "stream",
     "text": [
      "Epoch 8/10, Train Loss: 0.9266, Val Loss: 0.9322\n"
     ]
    },
    {
     "name": "stderr",
     "output_type": "stream",
     "text": [
      "100%|██████████| 350003/350003 [41:44<00:00, 139.74it/s]\n",
      "100%|██████████| 100001/100001 [06:42<00:00, 248.75it/s]\n"
     ]
    },
    {
     "name": "stdout",
     "output_type": "stream",
     "text": [
      "Epoch 9/10, Train Loss: 0.9266, Val Loss: 0.9486\n"
     ]
    },
    {
     "name": "stderr",
     "output_type": "stream",
     "text": [
      "100%|██████████| 350003/350003 [41:57<00:00, 139.03it/s]\n",
      "100%|██████████| 100001/100001 [06:37<00:00, 251.77it/s]"
     ]
    },
    {
     "name": "stdout",
     "output_type": "stream",
     "text": [
      "Epoch 10/10, Train Loss: 0.9265, Val Loss: 0.9417\n"
     ]
    },
    {
     "name": "stderr",
     "output_type": "stream",
     "text": [
      "\n"
     ]
    }
   ],
   "source": [
    "# Training loop\n",
    "model.to(device)\n",
    "n_epochs = 10\n",
    "train_losses = []\n",
    "val_losses = []\n",
    "\n",
    "for epoch in range(n_epochs):\n",
    "    model.train()\n",
    "    train_loss = 0\n",
    "    # Loop over the training data in batches\n",
    "    for features, target in tqdm(train_loader):\n",
    "        features = features.float().to(device)\n",
    "        target = target.float().to(device)\n",
    "        \n",
    "        # Zero the gradients and perform the forward pass\n",
    "        optimizer.zero_grad()\n",
    "        output = model(features)\n",
    "        loss = criterion(output.squeeze(), target)\n",
    "\n",
    "        # Perform the backward pass and update the weights\n",
    "        loss.backward()\n",
    "        optimizer.step()\n",
    "        \n",
    "        train_loss += loss.item()\n",
    "\n",
    "    # Calculate the average loss over the training data    \n",
    "    train_loss /= len(train_loader)\n",
    "    train_losses.append(train_loss)\n",
    "    \n",
    "    # Try model on validation data\n",
    "    model.eval()\n",
    "    val_loss = 0\n",
    "    with torch.no_grad():\n",
    "        for features, target in tqdm(val_loader):\n",
    "            features = features.float().to(device)\n",
    "            target = target.float().to(device)\n",
    "\n",
    "            output = model(features)\n",
    "            loss = criterion(output.squeeze(), target)\n",
    "\n",
    "            val_loss += loss.item()\n",
    "    # Validation Loss  \n",
    "    val_loss /= len(val_loader)\n",
    "    val_losses.append(val_loss)\n",
    "    \n",
    "    print(f'Epoch {epoch+1}/{n_epochs}, Train Loss: {train_loss:.4f}, Val Loss: {val_loss:.4f}')"
   ]
  },
  {
   "cell_type": "code",
   "execution_count": 30,
   "metadata": {},
   "outputs": [
    {
     "name": "stderr",
     "output_type": "stream",
     "text": [
      "100%|██████████| 50001/50001 [03:21<00:00, 248.31it/s]\n"
     ]
    }
   ],
   "source": [
    "# Get the predictions for the test set\n",
    "model.eval()\n",
    "test_loss = 0\n",
    "predictions = []\n",
    "targets = []\n",
    "with torch.no_grad():\n",
    "    # Split into batches\n",
    "    for features, target in tqdm(test_loader):\n",
    "        features = features.float().to(device)\n",
    "        target = target.float().to(device)\n",
    "        # Get the predictions and calculate the loss\n",
    "        output = model(features)\n",
    "        loss = criterion(output.squeeze(), target)\n",
    "\n",
    "        test_loss += loss.item()\n",
    "        # Save the predictions and targets\n",
    "        predictions.extend(output.squeeze().cpu().numpy())\n",
    "        targets.extend(target.cpu().numpy())"
   ]
  },
  {
   "cell_type": "code",
   "execution_count": 31,
   "metadata": {},
   "outputs": [
    {
     "name": "stdout",
     "output_type": "stream",
     "text": [
      "Test Loss: 0.9411, MAPE: 35.19%, RMSE: 0.9701\n"
     ]
    }
   ],
   "source": [
    "# Calculate the MAPE and RMSE\n",
    "predictions = np.array(predictions)\n",
    "targets = np.array(targets)\n",
    "mape = np.mean(np.abs(predictions - targets) / targets) * 100\n",
    "rmse = np.sqrt(np.mean((predictions - targets) ** 2))\n",
    "\n",
    "print(f'Test Loss: {test_loss/len(test_loader):.4f}, MAPE: {mape:.2f}%, RMSE: {rmse:.4f}')"
   ]
  },
  {
   "cell_type": "code",
   "execution_count": null,
   "metadata": {},
   "outputs": [],
   "source": []
  }
 ],
 "metadata": {
  "kernelspec": {
   "display_name": "Python 3",
   "language": "python",
   "name": "python3"
  },
  "language_info": {
   "codemirror_mode": {
    "name": "ipython",
    "version": 3
   },
   "file_extension": ".py",
   "mimetype": "text/x-python",
   "name": "python",
   "nbconvert_exporter": "python",
   "pygments_lexer": "ipython3",
   "version": "3.11.8"
  }
 },
 "nbformat": 4,
 "nbformat_minor": 2
}
